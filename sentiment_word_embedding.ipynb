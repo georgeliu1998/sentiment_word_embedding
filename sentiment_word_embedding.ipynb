{
  "nbformat": 4,
  "nbformat_minor": 0,
  "metadata": {
    "colab": {
      "name": "sentiment_word_embedding.ipynb",
      "version": "0.3.2",
      "provenance": [],
      "collapsed_sections": [],
      "include_colab_link": true
    },
    "kernelspec": {
      "name": "python3",
      "display_name": "Python 3"
    },
    "accelerator": "GPU"
  },
  "cells": [
    {
      "cell_type": "markdown",
      "metadata": {
        "id": "view-in-github",
        "colab_type": "text"
      },
      "source": [
        "<a href=\"https://colab.research.google.com/github/georgeliu1998/sentiment_word_embedding/blob/master/sentiment_word_embedding.ipynb\" target=\"_parent\"><img src=\"https://colab.research.google.com/assets/colab-badge.svg\" alt=\"Open In Colab\"/></a>"
      ]
    },
    {
      "metadata": {
        "id": "M30eGYwFZTaE",
        "colab_type": "text"
      },
      "cell_type": "markdown",
      "source": [
        "# Sentiment Analysis with Word Embedding and RNN"
      ]
    },
    {
      "metadata": {
        "id": "lhRK0W7VZL8D",
        "colab_type": "text"
      },
      "cell_type": "markdown",
      "source": [
        "## Set up the Environment"
      ]
    },
    {
      "metadata": {
        "id": "0fnH-78sMTIj",
        "colab_type": "code",
        "colab": {}
      },
      "cell_type": "code",
      "source": [
        "import numpy as np\n",
        "np.random.seed(8)\n",
        "seed = np.random.RandomState(8)\n",
        "\n",
        "import tensorflow as tf\n",
        "tf.set_random_seed(8)\n",
        "\n",
        "import urllib.request\n",
        "import tarfile\n",
        "import re\n",
        "import string\n",
        "from time import time\n",
        "\n",
        "import pandas as pd\n",
        "import spacy\n",
        "import nltk\n",
        "import matplotlib.pyplot as plt\n",
        "from nltk.corpus import stopwords\n",
        "from nltk.stem import WordNetLemmatizer\n",
        "\n",
        "from keras.models import Sequential\n",
        "from keras.layers import Dense, Activation, Dropout, Flatten, LSTM, GlobalAveragePooling1D\n",
        "from keras.layers.embeddings import Embedding\n",
        "\n",
        "from sklearn.linear_model import LogisticRegression\n",
        "from sklearn.metrics import accuracy_score\n",
        "from sklearn.feature_extraction.text import TfidfVectorizer"
      ],
      "execution_count": 0,
      "outputs": []
    },
    {
      "metadata": {
        "id": "JYC2cCNcik-Q",
        "colab_type": "code",
        "outputId": "71f8961a-ac1c-455e-d866-03b543655942",
        "colab": {
          "base_uri": "https://localhost:8080/",
          "height": 122
        }
      },
      "cell_type": "code",
      "source": [
        "from google.colab import drive\n",
        "drive.mount('/content/gdrive')"
      ],
      "execution_count": 4,
      "outputs": [
        {
          "output_type": "stream",
          "text": [
            "Go to this URL in a browser: https://accounts.google.com/o/oauth2/auth?client_id=947318989803-6bn6qk8qdgf4n4g3pfee6491hc0brc4i.apps.googleusercontent.com&redirect_uri=urn%3Aietf%3Awg%3Aoauth%3A2.0%3Aoob&scope=email%20https%3A%2F%2Fwww.googleapis.com%2Fauth%2Fdocs.test%20https%3A%2F%2Fwww.googleapis.com%2Fauth%2Fdrive%20https%3A%2F%2Fwww.googleapis.com%2Fauth%2Fdrive.photos.readonly%20https%3A%2F%2Fwww.googleapis.com%2Fauth%2Fpeopleapi.readonly&response_type=code\n",
            "\n",
            "Enter your authorization code:\n",
            "··········\n",
            "Mounted at /content/gdrive\n"
          ],
          "name": "stdout"
        }
      ]
    },
    {
      "metadata": {
        "id": "Z91OA7m3u3-f",
        "colab_type": "code",
        "colab": {}
      },
      "cell_type": "code",
      "source": [
        "import os\n",
        "workingdir = '/content/gdrive/My Drive/WorkingDir/sentiment_word_embedding'\n",
        "cwd = os.getcwd()\n",
        "\n",
        "if cwd != workingdir:\n",
        "  os.chdir(workingdir)"
      ],
      "execution_count": 0,
      "outputs": []
    },
    {
      "metadata": {
        "id": "9i619StRTlQO",
        "colab_type": "code",
        "colab": {}
      },
      "cell_type": "code",
      "source": [
        "from data import *"
      ],
      "execution_count": 0,
      "outputs": []
    },
    {
      "metadata": {
        "id": "d6_GZp-uB6Pg",
        "colab_type": "code",
        "colab": {}
      },
      "cell_type": "code",
      "source": [
        "#nltk.download('stopwords')\n",
        "#nltk.download('wordnet')\n",
        "#!python -m spacy download en_core_web_md\n",
        "#!python -m spacy download en_vectors_web_lg"
      ],
      "execution_count": 0,
      "outputs": []
    },
    {
      "metadata": {
        "id": "2wNUgX54YRs5",
        "colab_type": "text"
      },
      "cell_type": "markdown",
      "source": [
        "## Get the Data"
      ]
    },
    {
      "metadata": {
        "id": "qpc0Ci2gSd5V",
        "colab_type": "code",
        "colab": {}
      },
      "cell_type": "code",
      "source": [
        "# Download the dataset\n",
        "#download_imdb()\n",
        "\n",
        "# Load it into dataframes\n",
        "#df_train, df_test = load_imdb('./aclImdb')\n",
        "\n",
        "#save_df(df=df_train, path=path, save_name='df_train')\n",
        "#save_df(df=df_test, path=path, save_name='df_test')"
      ],
      "execution_count": 0,
      "outputs": []
    },
    {
      "metadata": {
        "id": "0EERavHavVyl",
        "colab_type": "code",
        "colab": {}
      },
      "cell_type": "code",
      "source": [
        "df_train, df_test = load_df(frac=0.2)\n",
        "\n",
        "X_train, y_train, X_val, y_val, X_test, y_test  = load_split_data(df_train, \n",
        "                                                                  df_test, \n",
        "                                                                  val_split=0.2)"
      ],
      "execution_count": 0,
      "outputs": []
    },
    {
      "metadata": {
        "id": "13V7jbWtVAfJ",
        "colab_type": "code",
        "colab": {
          "base_uri": "https://localhost:8080/",
          "height": 34
        },
        "outputId": "e4b31269-93ab-4e25-a210-0aaf7ed84576"
      },
      "cell_type": "code",
      "source": [
        "X_train.shape, y_train.shape, X_val.shape, y_val.shape, X_test.shape, y_test.shape"
      ],
      "execution_count": 8,
      "outputs": [
        {
          "output_type": "execute_result",
          "data": {
            "text/plain": [
              "((4000, 200), (4000,), (1000, 200), (1000,), (5000, 200), (5000,))"
            ]
          },
          "metadata": {
            "tags": []
          },
          "execution_count": 8
        }
      ]
    },
    {
      "metadata": {
        "id": "grJH6_8ZYu8a",
        "colab_type": "text"
      },
      "cell_type": "markdown",
      "source": [
        "##  Clean Text"
      ]
    },
    {
      "metadata": {
        "id": "X5zWJ-deU7ps",
        "colab_type": "code",
        "colab": {}
      },
      "cell_type": "code",
      "source": [
        "def preprocess_text(text, lemmatizing=False):\n",
        "    \"\"\"\n",
        "    Preprocesses text by removing all stop words and lemmatizing.\n",
        "    \n",
        "    Params\n",
        "    --------------\n",
        "    text: str\n",
        "      the string to be cleaned\n",
        "    \n",
        "    Returns\n",
        "    --------------\n",
        "    text: str\n",
        "      the cleaned string\n",
        "\n",
        "    \"\"\"\n",
        "    text = text.lower()\n",
        "    \n",
        "    if lemmatizing:\n",
        "      lemmatizer = WordNetLemmatizer()\n",
        "      text = ' '.join([lemmatizer.lemmatize(word, pos='v') for word in text.split()])\n",
        "    \n",
        "    # Remove html tags\n",
        "    text = re.sub(r'<.*?>', '', text)\n",
        "    \n",
        "    # Replace punctuation with spaces\n",
        "    translator = str.maketrans(string.punctuation, ' '*len(string.punctuation))\n",
        "    text = text.translate(translator)\n",
        "\n",
        "    # Remove stop words\n",
        "    text = ' '.join([word for word in text.split() if word not in stopwords.words('english')])\n",
        "    \n",
        "    # Remove additional white spaces\n",
        "    text = ' '.join(text.split())\n",
        "    \n",
        "    return text"
      ],
      "execution_count": 0,
      "outputs": []
    },
    {
      "metadata": {
        "id": "ok0pLI_fPqDY",
        "colab_type": "code",
        "outputId": "3ac534af-f104-4ce2-a7c0-17e3441d83e4",
        "colab": {
          "base_uri": "https://localhost:8080/",
          "height": 34
        }
      },
      "cell_type": "code",
      "source": [
        "t1 = time()\n",
        "\n",
        "X_train = df_train['review'].apply(preprocess_text)\n",
        "\n",
        "t2 = time()\n",
        "\n",
        "t = (t2 - t1) / 60\n",
        "\n",
        "print('Took {} min'.format(t))"
      ],
      "execution_count": 0,
      "outputs": [
        {
          "output_type": "stream",
          "text": [
            "Took 14.381852738062541 min\n"
          ],
          "name": "stdout"
        }
      ]
    },
    {
      "metadata": {
        "id": "pILIhW75QSJv",
        "colab_type": "code",
        "outputId": "a95194bb-19e5-4f72-db26-755384008d44",
        "colab": {
          "base_uri": "https://localhost:8080/",
          "height": 204
        }
      },
      "cell_type": "code",
      "source": [
        "df_train['review_processed'] = X_train\n",
        "df_train.head()"
      ],
      "execution_count": 0,
      "outputs": [
        {
          "output_type": "execute_result",
          "data": {
            "text/html": [
              "<div>\n",
              "<style scoped>\n",
              "    .dataframe tbody tr th:only-of-type {\n",
              "        vertical-align: middle;\n",
              "    }\n",
              "\n",
              "    .dataframe tbody tr th {\n",
              "        vertical-align: top;\n",
              "    }\n",
              "\n",
              "    .dataframe thead th {\n",
              "        text-align: right;\n",
              "    }\n",
              "</style>\n",
              "<table border=\"1\" class=\"dataframe\">\n",
              "  <thead>\n",
              "    <tr style=\"text-align: right;\">\n",
              "      <th></th>\n",
              "      <th>review</th>\n",
              "      <th>sentiment</th>\n",
              "      <th>review_processed</th>\n",
              "    </tr>\n",
              "  </thead>\n",
              "  <tbody>\n",
              "    <tr>\n",
              "      <th>0</th>\n",
              "      <td>I could never remember the name of this show. ...</td>\n",
              "      <td>1</td>\n",
              "      <td>-0.037421</td>\n",
              "    </tr>\n",
              "    <tr>\n",
              "      <th>1</th>\n",
              "      <td>Going into this movie, I had heard good things...</td>\n",
              "      <td>1</td>\n",
              "      <td>-0.009028</td>\n",
              "    </tr>\n",
              "    <tr>\n",
              "      <th>2</th>\n",
              "      <td>The only scary thing about this movie is the t...</td>\n",
              "      <td>0</td>\n",
              "      <td>-0.050488</td>\n",
              "    </tr>\n",
              "    <tr>\n",
              "      <th>3</th>\n",
              "      <td>This deserves a 12 out of 10. An absolutely re...</td>\n",
              "      <td>1</td>\n",
              "      <td>-0.047448</td>\n",
              "    </tr>\n",
              "    <tr>\n",
              "      <th>4</th>\n",
              "      <td>Joan Fontaine is \"A Damsel in Distress\" in thi...</td>\n",
              "      <td>1</td>\n",
              "      <td>-0.060614</td>\n",
              "    </tr>\n",
              "  </tbody>\n",
              "</table>\n",
              "</div>"
            ],
            "text/plain": [
              "                                              review  sentiment  \\\n",
              "0  I could never remember the name of this show. ...          1   \n",
              "1  Going into this movie, I had heard good things...          1   \n",
              "2  The only scary thing about this movie is the t...          0   \n",
              "3  This deserves a 12 out of 10. An absolutely re...          1   \n",
              "4  Joan Fontaine is \"A Damsel in Distress\" in thi...          1   \n",
              "\n",
              "   review_processed  \n",
              "0         -0.037421  \n",
              "1         -0.009028  \n",
              "2         -0.050488  \n",
              "3         -0.047448  \n",
              "4         -0.060614  "
            ]
          },
          "metadata": {
            "tags": []
          },
          "execution_count": 44
        }
      ]
    },
    {
      "metadata": {
        "id": "2XudtfS1g3wT",
        "colab_type": "code",
        "colab": {}
      },
      "cell_type": "code",
      "source": [
        "save_df(df=df_train, path=path, save_name='df_train')"
      ],
      "execution_count": 0,
      "outputs": []
    },
    {
      "metadata": {
        "id": "YlCB09DshTs_",
        "colab_type": "code",
        "outputId": "9af9a5af-5395-4895-f2b6-94f7b2daa2c5",
        "colab": {
          "base_uri": "https://localhost:8080/",
          "height": 34
        }
      },
      "cell_type": "code",
      "source": [
        "t1 = time()\n",
        "\n",
        "df_test['review_processed'] = df_test['review'].apply(preprocess_text)\n",
        "\n",
        "t2 = time()\n",
        "\n",
        "t = (t2 - t1) / 60\n",
        "\n",
        "save_df(df=df_test, path=path, save_name='df_test')\n",
        "\n",
        "print('Took {} min'.format(t))"
      ],
      "execution_count": 0,
      "outputs": [
        {
          "output_type": "stream",
          "text": [
            "Took 13.990289672215779 min\n"
          ],
          "name": "stdout"
        }
      ]
    },
    {
      "metadata": {
        "id": "uUt3V0gaovvf",
        "colab_type": "code",
        "outputId": "8928eae5-03dd-4de0-89d3-e5546fb250fa",
        "colab": {
          "base_uri": "https://localhost:8080/",
          "height": 204
        }
      },
      "cell_type": "code",
      "source": [
        "df_test.head()"
      ],
      "execution_count": 0,
      "outputs": [
        {
          "output_type": "execute_result",
          "data": {
            "text/html": [
              "<div>\n",
              "<style scoped>\n",
              "    .dataframe tbody tr th:only-of-type {\n",
              "        vertical-align: middle;\n",
              "    }\n",
              "\n",
              "    .dataframe tbody tr th {\n",
              "        vertical-align: top;\n",
              "    }\n",
              "\n",
              "    .dataframe thead th {\n",
              "        text-align: right;\n",
              "    }\n",
              "</style>\n",
              "<table border=\"1\" class=\"dataframe\">\n",
              "  <thead>\n",
              "    <tr style=\"text-align: right;\">\n",
              "      <th></th>\n",
              "      <th>review</th>\n",
              "      <th>sentiment</th>\n",
              "      <th>review_processed</th>\n",
              "    </tr>\n",
              "  </thead>\n",
              "  <tbody>\n",
              "    <tr>\n",
              "      <th>0</th>\n",
              "      <td>\"Thunderbolt\" is probably Jackie Chan's worst ...</td>\n",
              "      <td>0</td>\n",
              "      <td>thunderbolt probably jackie chan worst movie s...</td>\n",
              "    </tr>\n",
              "    <tr>\n",
              "      <th>1</th>\n",
              "      <td>This is the worst movie that I have ever seen....</td>\n",
              "      <td>0</td>\n",
              "      <td>worst movie ever seen first thought going good...</td>\n",
              "    </tr>\n",
              "    <tr>\n",
              "      <th>2</th>\n",
              "      <td>(Warning: Some spoilers ahead.)&lt;br /&gt;&lt;br /&gt;Wha...</td>\n",
              "      <td>0</td>\n",
              "      <td>warning spoilers ahead incredibly crappy movie...</td>\n",
              "    </tr>\n",
              "    <tr>\n",
              "      <th>3</th>\n",
              "      <td>This film is a perfect example of how to take ...</td>\n",
              "      <td>0</td>\n",
              "      <td>film perfect example take fascinating subject ...</td>\n",
              "    </tr>\n",
              "    <tr>\n",
              "      <th>4</th>\n",
              "      <td>Ok, everybody agreed on what was the best seas...</td>\n",
              "      <td>1</td>\n",
              "      <td>ok everybody agreed best season first killing ...</td>\n",
              "    </tr>\n",
              "  </tbody>\n",
              "</table>\n",
              "</div>"
            ],
            "text/plain": [
              "                                              review  sentiment  \\\n",
              "0  \"Thunderbolt\" is probably Jackie Chan's worst ...          0   \n",
              "1  This is the worst movie that I have ever seen....          0   \n",
              "2  (Warning: Some spoilers ahead.)<br /><br />Wha...          0   \n",
              "3  This film is a perfect example of how to take ...          0   \n",
              "4  Ok, everybody agreed on what was the best seas...          1   \n",
              "\n",
              "                                    review_processed  \n",
              "0  thunderbolt probably jackie chan worst movie s...  \n",
              "1  worst movie ever seen first thought going good...  \n",
              "2  warning spoilers ahead incredibly crappy movie...  \n",
              "3  film perfect example take fascinating subject ...  \n",
              "4  ok everybody agreed best season first killing ...  "
            ]
          },
          "metadata": {
            "tags": []
          },
          "execution_count": 79
        }
      ]
    },
    {
      "metadata": {
        "id": "3pzoPTvqv3cb",
        "colab_type": "text"
      },
      "cell_type": "markdown",
      "source": [
        "## Split Data"
      ]
    },
    {
      "metadata": {
        "id": "K6Vw2qGpUsVc",
        "colab_type": "code",
        "outputId": "69d1786e-4f9f-4b9d-c324-a2466ac1de77",
        "colab": {
          "base_uri": "https://localhost:8080/",
          "height": 34
        }
      },
      "cell_type": "code",
      "source": [
        "s = 'thunderbolt probably jackie chan worst movie'\n",
        "s.split()[:100]"
      ],
      "execution_count": 0,
      "outputs": [
        {
          "output_type": "execute_result",
          "data": {
            "text/plain": [
              "['thunderbolt', 'probably', 'jackie', 'chan', 'worst', 'movie']"
            ]
          },
          "metadata": {
            "tags": []
          },
          "execution_count": 21
        }
      ]
    },
    {
      "metadata": {
        "id": "voc1sGMzwCVh",
        "colab_type": "code",
        "colab": {}
      },
      "cell_type": "code",
      "source": [
        ""
      ],
      "execution_count": 0,
      "outputs": []
    },
    {
      "metadata": {
        "id": "Nzzzr2BNu3-r",
        "colab_type": "code",
        "outputId": "6cdcec20-e146-4c46-9eff-9a8f62a9d6f5",
        "colab": {
          "base_uri": "https://localhost:8080/",
          "height": 34
        }
      },
      "cell_type": "code",
      "source": [
        "df_train, df_test = load_df(frac=0.1)\n",
        "\n",
        "X_train, y_train, X_val, y_val, X_test, y_test = load_split_data(df_train=df_train, \n",
        "                                                                 df_test=df_test)\n",
        "\n",
        "X_train.shape, y_train.shape, X_val.shape, y_val.shape, X_test.shape, y_test.shape"
      ],
      "execution_count": 0,
      "outputs": [
        {
          "output_type": "execute_result",
          "data": {
            "text/plain": [
              "((2000, 200), (2000,), (500, 200), (500,), (2500, 200), (2500,))"
            ]
          },
          "metadata": {
            "tags": []
          },
          "execution_count": 26
        }
      ]
    },
    {
      "metadata": {
        "id": "5dWsdtN_OI_1",
        "colab_type": "text"
      },
      "cell_type": "markdown",
      "source": [
        "## Exploratory Data Analysis"
      ]
    },
    {
      "metadata": {
        "id": "UPIIySqKKjO4",
        "colab_type": "code",
        "colab": {}
      },
      "cell_type": "code",
      "source": [
        "def get_vocab(df):\n",
        "  \"\"\"\n",
        "  Gets the vocabulary in the review column and prints the size of the vocab\n",
        "  \n",
        "  Params\n",
        "  ----------------------\n",
        "  df: pandas dataframe\n",
        "    The input dataframe\n",
        "  \n",
        "  Returns\n",
        "  ----------------------\n",
        "  vocab: Python set\n",
        "    The unique vocabulary\n",
        "  \n",
        "  \"\"\"\n",
        "  vocab = set()\n",
        "  \n",
        "  for i in df['review_processed'].str.split():\n",
        "    vocab.update(i)\n",
        "  \n",
        "  print(\"Vocabulary size: {}\".format(len(vocab)))\n",
        "  return vocab\n",
        "\n",
        "\n",
        "def get_vocab_frequency(df):\n",
        "  \"\"\"\n",
        "  \n",
        "  \"\"\"\n",
        "  return df['review_processed'].str.split(expand=True).stack().value_counts()"
      ],
      "execution_count": 0,
      "outputs": []
    },
    {
      "metadata": {
        "id": "s2WDJU3BPM03",
        "colab_type": "code",
        "outputId": "5b63ffd5-b80b-4e4a-eb2b-1edb233d51bb",
        "colab": {
          "base_uri": "https://localhost:8080/",
          "height": 51
        }
      },
      "cell_type": "code",
      "source": [
        "vocab_train = get_vocab(df=df_train) \n",
        "vocab_test = get_vocab(df=df_test) "
      ],
      "execution_count": 0,
      "outputs": [
        {
          "output_type": "stream",
          "text": [
            "Vocabulary size: 76298\n",
            "Vocabulary size: 75456\n"
          ],
          "name": "stdout"
        }
      ]
    },
    {
      "metadata": {
        "id": "bgOq8OQRKja-",
        "colab_type": "code",
        "outputId": "0a8091cc-32ae-48b5-8d93-39f184fc7610",
        "colab": {
          "base_uri": "https://localhost:8080/",
          "height": 34
        }
      },
      "cell_type": "code",
      "source": [
        "vocab = set.union(vocab_train, vocab_test)\n",
        "len(vocab)"
      ],
      "execution_count": 0,
      "outputs": [
        {
          "output_type": "execute_result",
          "data": {
            "text/plain": [
              "104971"
            ]
          },
          "metadata": {
            "tags": []
          },
          "execution_count": 9
        }
      ]
    },
    {
      "metadata": {
        "id": "Jmsb3b6WKjh9",
        "colab_type": "code",
        "colab": {}
      },
      "cell_type": "code",
      "source": [
        "vocab"
      ],
      "execution_count": 0,
      "outputs": []
    },
    {
      "metadata": {
        "id": "n589yjft3Oh4",
        "colab_type": "code",
        "outputId": "cd698e99-9c52-41c9-f9f9-2b301e246a4f",
        "colab": {
          "base_uri": "https://localhost:8080/",
          "height": 364
        }
      },
      "cell_type": "code",
      "source": [
        "# Check the length distribution\n",
        "df_train.review_processed.apply(lambda x: one_hot(x, len(vocab))).apply(lambda x: len(x)).hist()"
      ],
      "execution_count": 0,
      "outputs": [
        {
          "output_type": "execute_result",
          "data": {
            "text/plain": [
              "<matplotlib.axes._subplots.AxesSubplot at 0x7efc7190dac8>"
            ]
          },
          "metadata": {
            "tags": []
          },
          "execution_count": 10
        },
        {
          "output_type": "display_data",
          "data": {
            "image/png": "[encoded data removed]",
            "text/plain": [
              "<Figure size 576x396 with 1 Axes>"
            ]
          },
          "metadata": {
            "tags": []
          }
        }
      ]
    },
    {
      "metadata": {
        "id": "Y2S9ryyfwg9i",
        "colab_type": "code",
        "outputId": "70bb102a-475c-4442-832e-01ff1b5bfd62",
        "colab": {
          "base_uri": "https://localhost:8080/",
          "height": 1071
        }
      },
      "cell_type": "code",
      "source": [
        "vocab_freq_train = get_vocab_frequency(df_train)\n",
        "vocab_freq_train"
      ],
      "execution_count": 0,
      "outputs": [
        {
          "output_type": "execute_result",
          "data": {
            "text/plain": [
              "movie             44023\n",
              "film              40140\n",
              "one               26785\n",
              "like              20270\n",
              "good              15140\n",
              "time              12720\n",
              "even              12642\n",
              "would             12436\n",
              "story             11982\n",
              "really            11736\n",
              "see               11475\n",
              "well              10657\n",
              "much               9763\n",
              "get                9310\n",
              "bad                9300\n",
              "people             9284\n",
              "also               9156\n",
              "first              9059\n",
              "great              9058\n",
              "made               8362\n",
              "way                8025\n",
              "make               8022\n",
              "could              7920\n",
              "movies             7661\n",
              "think              7296\n",
              "characters         7152\n",
              "character          7020\n",
              "watch              6971\n",
              "two                6904\n",
              "films              6886\n",
              "                  ...  \n",
              "5dumpster             1\n",
              "gins                  1\n",
              "playbook              1\n",
              "chiefstrangely        1\n",
              "slander               1\n",
              "specialization        1\n",
              "alcantara             1\n",
              "santucci              1\n",
              "misjudgement          1\n",
              "87minutes             1\n",
              "tschaikowsky          1\n",
              "espy                  1\n",
              "perplexities          1\n",
              "dänemark              1\n",
              "intersperse           1\n",
              "hellspawn             1\n",
              "polemicist            1\n",
              "pyasa                 1\n",
              "bugliosa              1\n",
              "grumbled              1\n",
              "cabarnet              1\n",
              "encircled             1\n",
              "refuges               1\n",
              "conflation            1\n",
              "twadd                 1\n",
              "televisual            1\n",
              "deify                 1\n",
              "jullian               1\n",
              "dragonballz           1\n",
              "¿acting               1\n",
              "Length: 76298, dtype: int64"
            ]
          },
          "metadata": {
            "tags": []
          },
          "execution_count": 14
        }
      ]
    },
    {
      "metadata": {
        "id": "s1GY5TkEw2na",
        "colab_type": "code",
        "outputId": "e0acaf84-2d57-429a-f2b8-f9153c38f76e",
        "colab": {
          "base_uri": "https://localhost:8080/",
          "height": 170
        }
      },
      "cell_type": "code",
      "source": [
        "vocab_freq_train.describe()"
      ],
      "execution_count": 0,
      "outputs": [
        {
          "output_type": "execute_result",
          "data": {
            "text/plain": [
              "count    76298.000000\n",
              "mean        39.661551\n",
              "std        367.347894\n",
              "min          1.000000\n",
              "25%          1.000000\n",
              "50%          2.000000\n",
              "75%         10.000000\n",
              "max      44023.000000\n",
              "dtype: float64"
            ]
          },
          "metadata": {
            "tags": []
          },
          "execution_count": 17
        }
      ]
    },
    {
      "metadata": {
        "id": "Jfq-tr-RxwkC",
        "colab_type": "code",
        "outputId": "ea3ae0ac-5c40-4e70-d199-0aea157327c4",
        "colab": {
          "base_uri": "https://localhost:8080/",
          "height": 1071
        }
      },
      "cell_type": "code",
      "source": [
        "vocab_freq_train.iloc[:100]"
      ],
      "execution_count": 0,
      "outputs": [
        {
          "output_type": "execute_result",
          "data": {
            "text/plain": [
              "movie         44023\n",
              "film          40140\n",
              "one           26785\n",
              "like          20270\n",
              "good          15140\n",
              "time          12720\n",
              "even          12642\n",
              "would         12436\n",
              "story         11982\n",
              "really        11736\n",
              "see           11475\n",
              "well          10657\n",
              "much           9763\n",
              "get            9310\n",
              "bad            9300\n",
              "people         9284\n",
              "also           9156\n",
              "first          9059\n",
              "great          9058\n",
              "made           8362\n",
              "way            8025\n",
              "make           8022\n",
              "could          7920\n",
              "movies         7661\n",
              "think          7296\n",
              "characters     7152\n",
              "character      7020\n",
              "watch          6971\n",
              "two            6904\n",
              "films          6886\n",
              "              ...  \n",
              "going          4101\n",
              "part           4031\n",
              "lot            3978\n",
              "every          3976\n",
              "world          3834\n",
              "cast           3826\n",
              "us             3789\n",
              "quite          3737\n",
              "want           3703\n",
              "things         3688\n",
              "pretty         3664\n",
              "young          3660\n",
              "seems          3618\n",
              "around         3616\n",
              "horror         3591\n",
              "got            3583\n",
              "however        3537\n",
              "fact           3522\n",
              "take           3507\n",
              "big            3475\n",
              "enough         3451\n",
              "long           3448\n",
              "thought        3437\n",
              "series         3415\n",
              "may            3386\n",
              "give           3376\n",
              "original       3375\n",
              "action         3354\n",
              "right          3313\n",
              "without        3267\n",
              "Length: 100, dtype: int64"
            ]
          },
          "metadata": {
            "tags": []
          },
          "execution_count": 18
        }
      ]
    },
    {
      "metadata": {
        "id": "CrBpMg0lZta7",
        "colab_type": "text"
      },
      "cell_type": "markdown",
      "source": [
        "## Model with Non-DL ML"
      ]
    },
    {
      "metadata": {
        "id": "9nOUxeDI_3Pw",
        "colab_type": "code",
        "outputId": "f838f1cd-92f9-4241-9f41-14cefc69e3aa",
        "colab": {
          "base_uri": "https://localhost:8080/",
          "height": 68
        }
      },
      "cell_type": "code",
      "source": [
        "#vectorizer = CountVectorizer()\n",
        "vectorizer = TfidfVectorizer()\n",
        "\n",
        "X_train_tfidf = vectorizer.fit_transform(df_train['review_processed'])    \n",
        "X_test_tfidf = vectorizer.transform(df_test['review_processed'])\n",
        "\n",
        "#model = LinearSVC()\n",
        "model = LogisticRegression()\n",
        "model.fit(X_train_tfidf, df_train['sentiment'])\n",
        "y_pred = model.predict(X_test_tfidf)\n",
        "\n",
        "acc = accuracy_score(y_test, y_pred)\n",
        "\n",
        "print(\"Accuracy on test set: {:.2%}\".format(acc))"
      ],
      "execution_count": 0,
      "outputs": [
        {
          "output_type": "stream",
          "text": [
            "/usr/local/lib/python3.6/dist-packages/sklearn/linear_model/logistic.py:433: FutureWarning: Default solver will be changed to 'lbfgs' in 0.22. Specify a solver to silence this warning.\n",
            "  FutureWarning)\n"
          ],
          "name": "stderr"
        },
        {
          "output_type": "stream",
          "text": [
            "Accuracy on test set: 88.33%\n"
          ],
          "name": "stdout"
        }
      ]
    },
    {
      "metadata": {
        "id": "ANS68BeHZ6MF",
        "colab_type": "text"
      },
      "cell_type": "markdown",
      "source": [
        "## Model with Pretrained Word Embedding and Neural Networks"
      ]
    },
    {
      "metadata": {
        "id": "0MHQgOfOmDYP",
        "colab_type": "code",
        "colab": {}
      },
      "cell_type": "code",
      "source": [
        "# Load the spacy model\n",
        "nlp = spacy.load('en_core_web_md')"
      ],
      "execution_count": 0,
      "outputs": []
    },
    {
      "metadata": {
        "id": "ioelJkF1OXQf",
        "colab_type": "code",
        "outputId": "34f35ce0-7cde-4fcb-c743-1e2f0f1ec675",
        "colab": {
          "base_uri": "https://localhost:8080/",
          "height": 34
        }
      },
      "cell_type": "code",
      "source": [
        "t1 = time()\n",
        "\n",
        "X_train = np.array(list(df_train['review_processed'].apply(lambda x: nlp(x).vector.tolist())))\n",
        "\n",
        "t2 = time()\n",
        "\n",
        "t = (t2 - t1) / 60\n",
        "\n",
        "path_name = os.path.join(path, 'X_train_vector.csv')\n",
        "\n",
        "np.savetxt(path_name, X_train, delimiter=',') \n",
        "\n",
        "print('Took {} min'.format(t))"
      ],
      "execution_count": 0,
      "outputs": [
        {
          "output_type": "stream",
          "text": [
            "Took 21.16675995985667 min\n"
          ],
          "name": "stdout"
        }
      ]
    },
    {
      "metadata": {
        "id": "Xb99GpAdrzxF",
        "colab_type": "code",
        "outputId": "2fa9e056-fb70-4be7-ab98-ef6b5e83d436",
        "colab": {
          "base_uri": "https://localhost:8080/",
          "height": 34
        }
      },
      "cell_type": "code",
      "source": [
        "t1 = time()\n",
        "\n",
        "X_test = np.array(list(df_test['review_processed'].apply(lambda x: nlp(x).vector.tolist())))\n",
        "\n",
        "t2 = time()\n",
        "\n",
        "t = (t2 - t1) / 60\n",
        "\n",
        "path_name = os.path.join(path, 'X_test_vector.csv')\n",
        "\n",
        "np.savetxt(path_name, X_test, delimiter=',') \n",
        "\n",
        "print('Took {} min'.format(t))"
      ],
      "execution_count": 0,
      "outputs": [
        {
          "output_type": "stream",
          "text": [
            "Took 20.361665081977844 min\n"
          ],
          "name": "stdout"
        }
      ]
    },
    {
      "metadata": {
        "id": "Of_d54JbyhD0",
        "colab_type": "code",
        "outputId": "606a5627-f45c-48b7-ef2e-bbabd079ccd7",
        "colab": {
          "base_uri": "https://localhost:8080/",
          "height": 34
        }
      },
      "cell_type": "code",
      "source": [
        "# Load the embeded train test data\n",
        "X_train_embed, y_train, X_test_embed, y_test = load_data_embedded()\n",
        "X_train_embed.shape, y_train.shape, X_test_embed.shape, y_test.shape"
      ],
      "execution_count": 0,
      "outputs": [
        {
          "output_type": "execute_result",
          "data": {
            "text/plain": [
              "((25000, 300), (25000,), (25000, 300), (25000,))"
            ]
          },
          "metadata": {
            "tags": []
          },
          "execution_count": 22
        }
      ]
    },
    {
      "metadata": {
        "id": "72a_RMZ42OGF",
        "colab_type": "code",
        "colab": {}
      },
      "cell_type": "code",
      "source": [
        "# Split validation data from train data\n",
        "X_train_embed, X_val_embed, y_train, y_val = train_test_split(\n",
        "    X_train_embed, y_train, test_size=0.2, random_state=seed)"
      ],
      "execution_count": 0,
      "outputs": []
    },
    {
      "metadata": {
        "id": "euzMlXJB7eWc",
        "colab_type": "code",
        "outputId": "8e6e5f51-c004-4698-a8af-6891a280918b",
        "colab": {
          "base_uri": "https://localhost:8080/",
          "height": 1105
        }
      },
      "cell_type": "code",
      "source": [
        "from keras.optimizers import RMSprop\n",
        "\n",
        "model = Sequential()\n",
        "model.add(Dense(64, input_dim=300, activation='relu'))\n",
        "model.add(Dropout(0.5))\n",
        "model.add(Dense(1, activation='sigmoid'))\n",
        "\n",
        "rmsprop = RMSprop(lr=0.001)\n",
        "model.compile(loss='binary_crossentropy',\n",
        "              optimizer='adam',\n",
        "              metrics=['accuracy'])\n",
        "\n",
        "history = model.fit(X_train_embed, \n",
        "                    y_train,\n",
        "                    epochs=30,\n",
        "                    batch_size=128, \n",
        "                    validation_data=(X_val_embed, y_val), \n",
        "                    verbose=1)\n",
        "\n",
        "score = model.evaluate(X_test_embed, y_test, batch_size=128)\n",
        "print(\"\\nAccuracy on the test set is: {}\".format(score[1]))"
      ],
      "execution_count": 0,
      "outputs": [
        {
          "output_type": "stream",
          "text": [
            "Train on 20000 samples, validate on 5000 samples\n",
            "Epoch 1/30\n",
            "20000/20000 [==============================] - 13s 633us/step - loss: 0.5443 - acc: 0.7394 - val_loss: 0.4317 - val_acc: 0.8130\n",
            "Epoch 2/30\n",
            "20000/20000 [==============================] - 1s 50us/step - loss: 0.4158 - acc: 0.8201 - val_loss: 0.3812 - val_acc: 0.8334\n",
            "Epoch 3/30\n",
            "20000/20000 [==============================] - 1s 51us/step - loss: 0.3852 - acc: 0.8366 - val_loss: 0.3643 - val_acc: 0.8410\n",
            "Epoch 4/30\n",
            "20000/20000 [==============================] - 1s 51us/step - loss: 0.3718 - acc: 0.8418 - val_loss: 0.3528 - val_acc: 0.8474\n",
            "Epoch 5/30\n",
            "20000/20000 [==============================] - 1s 51us/step - loss: 0.3642 - acc: 0.8439 - val_loss: 0.3527 - val_acc: 0.8470\n",
            "Epoch 6/30\n",
            "20000/20000 [==============================] - 1s 50us/step - loss: 0.3578 - acc: 0.8478 - val_loss: 0.3453 - val_acc: 0.8510\n",
            "Epoch 7/30\n",
            "20000/20000 [==============================] - 1s 51us/step - loss: 0.3564 - acc: 0.8469 - val_loss: 0.3409 - val_acc: 0.8526\n",
            "Epoch 8/30\n",
            "20000/20000 [==============================] - 1s 51us/step - loss: 0.3500 - acc: 0.8505 - val_loss: 0.3395 - val_acc: 0.8522\n",
            "Epoch 9/30\n",
            "20000/20000 [==============================] - 1s 51us/step - loss: 0.3493 - acc: 0.8516 - val_loss: 0.3388 - val_acc: 0.8542\n",
            "Epoch 10/30\n",
            "20000/20000 [==============================] - 1s 52us/step - loss: 0.3471 - acc: 0.8523 - val_loss: 0.3367 - val_acc: 0.8550\n",
            "Epoch 11/30\n",
            "20000/20000 [==============================] - 1s 51us/step - loss: 0.3417 - acc: 0.8531 - val_loss: 0.3378 - val_acc: 0.8562\n",
            "Epoch 12/30\n",
            "20000/20000 [==============================] - 1s 51us/step - loss: 0.3414 - acc: 0.8555 - val_loss: 0.3353 - val_acc: 0.8564\n",
            "Epoch 13/30\n",
            "20000/20000 [==============================] - 1s 50us/step - loss: 0.3417 - acc: 0.8551 - val_loss: 0.3348 - val_acc: 0.8564\n",
            "Epoch 14/30\n",
            "20000/20000 [==============================] - 1s 52us/step - loss: 0.3391 - acc: 0.8576 - val_loss: 0.3406 - val_acc: 0.8530\n",
            "Epoch 15/30\n",
            "20000/20000 [==============================] - 1s 51us/step - loss: 0.3377 - acc: 0.8565 - val_loss: 0.3334 - val_acc: 0.8570\n",
            "Epoch 16/30\n",
            "20000/20000 [==============================] - 1s 50us/step - loss: 0.3381 - acc: 0.8561 - val_loss: 0.3330 - val_acc: 0.8576\n",
            "Epoch 17/30\n",
            "20000/20000 [==============================] - 1s 51us/step - loss: 0.3361 - acc: 0.8596 - val_loss: 0.3348 - val_acc: 0.8552\n",
            "Epoch 18/30\n",
            "20000/20000 [==============================] - 1s 51us/step - loss: 0.3345 - acc: 0.8579 - val_loss: 0.3322 - val_acc: 0.8586\n",
            "Epoch 19/30\n",
            "20000/20000 [==============================] - 1s 51us/step - loss: 0.3346 - acc: 0.8597 - val_loss: 0.3328 - val_acc: 0.8564\n",
            "Epoch 20/30\n",
            "20000/20000 [==============================] - 1s 51us/step - loss: 0.3326 - acc: 0.8588 - val_loss: 0.3322 - val_acc: 0.8604\n",
            "Epoch 21/30\n",
            "20000/20000 [==============================] - 1s 51us/step - loss: 0.3305 - acc: 0.8608 - val_loss: 0.3311 - val_acc: 0.8602\n",
            "Epoch 22/30\n",
            "20000/20000 [==============================] - 1s 52us/step - loss: 0.3284 - acc: 0.8622 - val_loss: 0.3331 - val_acc: 0.8584\n",
            "Epoch 23/30\n",
            "20000/20000 [==============================] - 1s 50us/step - loss: 0.3289 - acc: 0.8615 - val_loss: 0.3310 - val_acc: 0.8598\n",
            "Epoch 24/30\n",
            "20000/20000 [==============================] - 1s 52us/step - loss: 0.3256 - acc: 0.8628 - val_loss: 0.3326 - val_acc: 0.8576\n",
            "Epoch 25/30\n",
            "20000/20000 [==============================] - 1s 51us/step - loss: 0.3277 - acc: 0.8637 - val_loss: 0.3318 - val_acc: 0.8588\n",
            "Epoch 26/30\n",
            "20000/20000 [==============================] - 1s 51us/step - loss: 0.3269 - acc: 0.8643 - val_loss: 0.3310 - val_acc: 0.8602\n",
            "Epoch 27/30\n",
            "20000/20000 [==============================] - 1s 51us/step - loss: 0.3239 - acc: 0.8642 - val_loss: 0.3313 - val_acc: 0.8600\n",
            "Epoch 28/30\n",
            "20000/20000 [==============================] - 1s 50us/step - loss: 0.3250 - acc: 0.8634 - val_loss: 0.3308 - val_acc: 0.8604\n",
            "Epoch 29/30\n",
            "20000/20000 [==============================] - 1s 50us/step - loss: 0.3212 - acc: 0.8668 - val_loss: 0.3300 - val_acc: 0.8582\n",
            "Epoch 30/30\n",
            "20000/20000 [==============================] - 1s 51us/step - loss: 0.3217 - acc: 0.8672 - val_loss: 0.3307 - val_acc: 0.8592\n",
            "25000/25000 [==============================] - 1s 23us/step\n",
            "\n",
            "Accuracy on the test set is: 0.8542000000190735\n"
          ],
          "name": "stdout"
        }
      ]
    },
    {
      "metadata": {
        "id": "dB6BphfYH_x5",
        "colab_type": "code",
        "colab": {}
      },
      "cell_type": "code",
      "source": [
        "def plot_metrics(history):\n",
        "  \"\"\"\n",
        "  Plots the accuracy and loss results using the given hisotry_dict.\n",
        "  \n",
        "  Params\n",
        "  ---------------------\n",
        "  history:\n",
        "    The history object by model.fit()\n",
        "  \n",
        "  Returns\n",
        "  ---------------------\n",
        "  None\n",
        "  \n",
        "  \"\"\"\n",
        "  history_dict = history.history\n",
        "  \n",
        "  acc = history_dict['acc']\n",
        "  val_acc = history_dict['val_acc']\n",
        "  loss = history_dict['loss']\n",
        "  val_loss = history_dict['val_loss']\n",
        "\n",
        "  epochs = range(1, len(acc) + 1)\n",
        "\n",
        "  fig, (ax1, ax2) = plt.subplots(nrows=1, ncols=2, figsize=(16, 10))\n",
        "  \n",
        "  # \"bo\" is for \"blue dot\"\n",
        "  ax1.plot(epochs, loss, 'bo', label='Training loss')\n",
        "  # b is for \"solid blue line\"\n",
        "  ax1.plot(epochs, val_loss, 'b', label='Validation loss')\n",
        "  ax1.set_title('Training and validation loss')\n",
        "  ax1.set_xlabel('Epochs')\n",
        "  ax1.set_ylabel('Loss')\n",
        "  ax1.legend()\n",
        "\n",
        "  ax2.plot(epochs, acc, 'bo', label='Training acc')\n",
        "  ax2.plot(epochs, val_acc, 'b', label='Validation acc')\n",
        "  ax2.set_title('Training and validation accuracy')\n",
        "  ax2.set_xlabel('Epochs')\n",
        "  ax2.set_ylabel('Accuracy')\n",
        "  ax2.legend()\n",
        "  \n",
        "  plt.show() "
      ],
      "execution_count": 0,
      "outputs": []
    },
    {
      "metadata": {
        "id": "RxW15QXOJAkp",
        "colab_type": "code",
        "outputId": "ea778ca1-cc83-4b46-ffdb-a45b2d0e1b47",
        "colab": {
          "base_uri": "https://localhost:8080/",
          "height": 620
        }
      },
      "cell_type": "code",
      "source": [
        "plot_metrics(history)"
      ],
      "execution_count": 0,
      "outputs": [
        {
          "output_type": "display_data",
          "data": {
            "image/png": "[encoded data removed]",
            "text/plain": [
              "<Figure size 1152x720 with 2 Axes>"
            ]
          },
          "metadata": {
            "tags": []
          }
        }
      ]
    },
    {
      "metadata": {
        "id": "z3avwMq6KOg-",
        "colab_type": "text"
      },
      "cell_type": "markdown",
      "source": [
        "## Model with Keras Embedding Layer"
      ]
    },
    {
      "metadata": {
        "id": "suDEYO1Fis48",
        "colab_type": "code",
        "colab": {}
      },
      "cell_type": "code",
      "source": [
        "X_train, y_train, X_val, y_val, X_test, y_test = load_data(df_train, \n",
        "                                                           df_test, \n",
        "                                                           col='review_processed',\n",
        "                                                           vocab_size=10000,\n",
        "                                                           max_length=200)"
      ],
      "execution_count": 0,
      "outputs": []
    },
    {
      "metadata": {
        "id": "L13ggPeT59TR",
        "colab_type": "code",
        "outputId": "06454d59-2489-449c-9500-a92298ccb02b",
        "colab": {
          "base_uri": "https://localhost:8080/",
          "height": 1657
        }
      },
      "cell_type": "code",
      "source": [
        "# define the model\n",
        "model = Sequential()\n",
        "model.add(Embedding(input_dim=10000, \n",
        "                    output_dim=8, \n",
        "                    input_length=200\n",
        "                   ))\n",
        "model.add(Dropout(0.7))\n",
        "model.add(Flatten())\n",
        "#model.add(LSTM(100))\n",
        "#model.add(Dropout(0.7))\n",
        "#model.add(GlobalAveragePooling1D())\n",
        "#model.add(Dropout(0.7))\n",
        "#model.add(Dense(16, activation='relu'))\n",
        "model.add(Dropout(0.7))\n",
        "model.add(Dense(1, activation='sigmoid'))\n",
        "\n",
        "# compile the model\n",
        "model.compile(optimizer='adam', loss='binary_crossentropy', metrics=['acc'])\n",
        "\n",
        "# summarize the model\n",
        "print(model.summary())\n",
        "\n",
        "# fit the model\n",
        "history = model.fit(X_train, \n",
        "                    y_train, \n",
        "                    epochs=20, \n",
        "                    #batch_size=64,\n",
        "                    validation_data=(X_val, y_val), \n",
        "                    verbose=1)\n",
        "\n",
        "# evaluate the model\n",
        "loss, accuracy = model.evaluate(X_test, y_test, verbose=0)\n",
        "print('\\nAccuracy: {:.2%}'.format(accuracy))\n",
        "\n",
        "plot_metrics(history)"
      ],
      "execution_count": 0,
      "outputs": [
        {
          "output_type": "stream",
          "text": [
            "_________________________________________________________________\n",
            "Layer (type)                 Output Shape              Param #   \n",
            "=================================================================\n",
            "embedding_1 (Embedding)      (None, 200, 8)            80000     \n",
            "_________________________________________________________________\n",
            "dropout_1 (Dropout)          (None, 200, 8)            0         \n",
            "_________________________________________________________________\n",
            "flatten_1 (Flatten)          (None, 1600)              0         \n",
            "_________________________________________________________________\n",
            "dropout_2 (Dropout)          (None, 1600)              0         \n",
            "_________________________________________________________________\n",
            "dense_1 (Dense)              (None, 1)                 1601      \n",
            "=================================================================\n",
            "Total params: 81,601\n",
            "Trainable params: 81,601\n",
            "Non-trainable params: 0\n",
            "_________________________________________________________________\n",
            "None\n",
            "Train on 20000 samples, validate on 5000 samples\n",
            "Epoch 1/20\n",
            "20000/20000 [==============================] - 14s 716us/step - loss: 0.6940 - acc: 0.5095 - val_loss: 0.6828 - val_acc: 0.6566\n",
            "Epoch 2/20\n",
            "20000/20000 [==============================] - 3s 157us/step - loss: 0.6310 - acc: 0.6578 - val_loss: 0.5466 - val_acc: 0.7934\n",
            "Epoch 3/20\n",
            "20000/20000 [==============================] - 3s 158us/step - loss: 0.5151 - acc: 0.7547 - val_loss: 0.4359 - val_acc: 0.8424\n",
            "Epoch 4/20\n",
            "20000/20000 [==============================] - 3s 157us/step - loss: 0.4615 - acc: 0.7840 - val_loss: 0.3930 - val_acc: 0.8546\n",
            "Epoch 5/20\n",
            "20000/20000 [==============================] - 3s 159us/step - loss: 0.4301 - acc: 0.8040 - val_loss: 0.3676 - val_acc: 0.8616\n",
            "Epoch 6/20\n",
            "20000/20000 [==============================] - 3s 157us/step - loss: 0.4182 - acc: 0.8092 - val_loss: 0.3556 - val_acc: 0.8664\n",
            "Epoch 7/20\n",
            "20000/20000 [==============================] - 3s 157us/step - loss: 0.4018 - acc: 0.8185 - val_loss: 0.3445 - val_acc: 0.8688\n",
            "Epoch 8/20\n",
            "20000/20000 [==============================] - 3s 157us/step - loss: 0.3890 - acc: 0.8262 - val_loss: 0.3395 - val_acc: 0.8680\n",
            "Epoch 9/20\n",
            "20000/20000 [==============================] - 3s 157us/step - loss: 0.3838 - acc: 0.8289 - val_loss: 0.3363 - val_acc: 0.8624\n",
            "Epoch 10/20\n",
            "20000/20000 [==============================] - 3s 156us/step - loss: 0.3763 - acc: 0.8329 - val_loss: 0.3319 - val_acc: 0.8642\n",
            "Epoch 11/20\n",
            "20000/20000 [==============================] - 3s 156us/step - loss: 0.3737 - acc: 0.8351 - val_loss: 0.3309 - val_acc: 0.8694\n",
            "Epoch 12/20\n",
            "20000/20000 [==============================] - 3s 156us/step - loss: 0.3645 - acc: 0.8388 - val_loss: 0.3277 - val_acc: 0.8710\n",
            "Epoch 13/20\n",
            "20000/20000 [==============================] - 3s 156us/step - loss: 0.3644 - acc: 0.8378 - val_loss: 0.3224 - val_acc: 0.8702\n",
            "Epoch 14/20\n",
            "20000/20000 [==============================] - 3s 157us/step - loss: 0.3653 - acc: 0.8393 - val_loss: 0.3218 - val_acc: 0.8710\n",
            "Epoch 15/20\n",
            "20000/20000 [==============================] - 3s 158us/step - loss: 0.3610 - acc: 0.8416 - val_loss: 0.3227 - val_acc: 0.8656\n",
            "Epoch 16/20\n",
            "20000/20000 [==============================] - 3s 157us/step - loss: 0.3591 - acc: 0.8410 - val_loss: 0.3216 - val_acc: 0.8688\n",
            "Epoch 17/20\n",
            "20000/20000 [==============================] - 3s 156us/step - loss: 0.3463 - acc: 0.8451 - val_loss: 0.3187 - val_acc: 0.8692\n",
            "Epoch 18/20\n",
            "20000/20000 [==============================] - 3s 157us/step - loss: 0.3515 - acc: 0.8465 - val_loss: 0.3185 - val_acc: 0.8666\n",
            "Epoch 19/20\n",
            "20000/20000 [==============================] - 3s 156us/step - loss: 0.3467 - acc: 0.8468 - val_loss: 0.3186 - val_acc: 0.8696\n",
            "Epoch 20/20\n",
            "20000/20000 [==============================] - 3s 158us/step - loss: 0.3496 - acc: 0.8488 - val_loss: 0.3181 - val_acc: 0.8708\n",
            "\n",
            "Accuracy: 85.38%\n"
          ],
          "name": "stdout"
        },
        {
          "output_type": "display_data",
          "data": {
            "image/png": "[encoded data removed]",
            "text/plain": [
              "<Figure size 1152x720 with 2 Axes>"
            ]
          },
          "metadata": {
            "tags": []
          }
        }
      ]
    },
    {
      "metadata": {
        "id": "NQ1ry-sXdpZo",
        "colab_type": "code",
        "outputId": "e24e6085-869b-4c82-bbc5-8181b3af7ac3",
        "colab": {
          "base_uri": "https://localhost:8080/",
          "height": 34
        }
      },
      "cell_type": "code",
      "source": [
        "df_train_small = df_train.sample(frac=0.1)\n",
        "df_train_small.shape"
      ],
      "execution_count": 0,
      "outputs": [
        {
          "output_type": "execute_result",
          "data": {
            "text/plain": [
              "(2500, 3)"
            ]
          },
          "metadata": {
            "tags": []
          },
          "execution_count": 10
        }
      ]
    },
    {
      "metadata": {
        "id": "LOdDatAhiCjG",
        "colab_type": "code",
        "colab": {}
      },
      "cell_type": "code",
      "source": [
        "X_train_small, y_train_small, X_val_small, y_val_small, X_test, y_test = load_data(\n",
        "    df_train_small,\n",
        "    df_test, \n",
        "    col='review_processed',\n",
        "    vocab_size=10000,\n",
        "    max_length=200)"
      ],
      "execution_count": 0,
      "outputs": []
    },
    {
      "metadata": {
        "id": "mg2MAd9bjNBB",
        "colab_type": "code",
        "outputId": "0eaf3a0e-92e1-435f-acd3-bc4ab957c29d",
        "colab": {
          "base_uri": "https://localhost:8080/",
          "height": 34
        }
      },
      "cell_type": "code",
      "source": [
        "X_train_small.shape, y_train_small.shape, X_val_small.shape, y_val_small.shape"
      ],
      "execution_count": 0,
      "outputs": [
        {
          "output_type": "execute_result",
          "data": {
            "text/plain": [
              "((2000, 200), (2000,), (500, 200), (500,))"
            ]
          },
          "metadata": {
            "tags": []
          },
          "execution_count": 13
        }
      ]
    },
    {
      "metadata": {
        "id": "JBdz5L_7ijoN",
        "colab_type": "code",
        "outputId": "11762f6a-fafa-4f76-c600-32cdd005551e",
        "colab": {
          "base_uri": "https://localhost:8080/",
          "height": 1997
        }
      },
      "cell_type": "code",
      "source": [
        "################################\n",
        "#########  Experiment  #########\n",
        "################################\n",
        "\n",
        "\n",
        "# define the model\n",
        "model = Sequential()\n",
        "model.add(Embedding(input_dim=10000, \n",
        "                    output_dim=8, \n",
        "                    input_length=200))\n",
        "model.add(Dropout(0.7))\n",
        "#model.add(Flatten())\n",
        "model.add(LSTM(100))\n",
        "model.add(Dropout(0.7))\n",
        "model.add(Dense(1, activation='sigmoid'))\n",
        "\n",
        "# compile the model\n",
        "model.compile(optimizer='adam', loss='binary_crossentropy', metrics=['acc'])\n",
        "\n",
        "# summarize the model\n",
        "print(model.summary())\n",
        "\n",
        "# fit the model\n",
        "history = model.fit(X_train_small, \n",
        "                    y_train_small, \n",
        "                    epochs=30, \n",
        "                    #batch_size=64,\n",
        "                    validation_data=(X_val_small, y_val_small), \n",
        "                    verbose=1)\n",
        "\n",
        "# evaluate the model\n",
        "loss, accuracy = model.evaluate(X_test, y_test, verbose=0)\n",
        "print('\\nAccuracy: {:.2%}'.format(accuracy))\n",
        "\n",
        "plot_metrics(history)"
      ],
      "execution_count": 0,
      "outputs": [
        {
          "output_type": "stream",
          "text": [
            "_________________________________________________________________\n",
            "Layer (type)                 Output Shape              Param #   \n",
            "=================================================================\n",
            "embedding_4 (Embedding)      (None, 200, 8)            80000     \n",
            "_________________________________________________________________\n",
            "dropout_7 (Dropout)          (None, 200, 8)            0         \n",
            "_________________________________________________________________\n",
            "lstm_4 (LSTM)                (None, 100)               43600     \n",
            "_________________________________________________________________\n",
            "dropout_8 (Dropout)          (None, 100)               0         \n",
            "_________________________________________________________________\n",
            "dense_4 (Dense)              (None, 1)                 101       \n",
            "=================================================================\n",
            "Total params: 123,701\n",
            "Trainable params: 123,701\n",
            "Non-trainable params: 0\n",
            "_________________________________________________________________\n",
            "None\n",
            "Train on 2000 samples, validate on 500 samples\n",
            "Epoch 1/30\n",
            "2000/2000 [==============================] - 30s 15ms/step - loss: 0.6941 - acc: 0.4910 - val_loss: 0.6930 - val_acc: 0.5100\n",
            "Epoch 2/30\n",
            "2000/2000 [==============================] - 29s 14ms/step - loss: 0.6938 - acc: 0.4885 - val_loss: 0.6931 - val_acc: 0.5100\n",
            "Epoch 3/30\n",
            "2000/2000 [==============================] - 29s 14ms/step - loss: 0.6932 - acc: 0.4955 - val_loss: 0.6931 - val_acc: 0.4980\n",
            "Epoch 4/30\n",
            "2000/2000 [==============================] - 29s 14ms/step - loss: 0.6939 - acc: 0.5025 - val_loss: 0.6929 - val_acc: 0.5200\n",
            "Epoch 5/30\n",
            "2000/2000 [==============================] - 29s 15ms/step - loss: 0.6929 - acc: 0.5040 - val_loss: 0.6930 - val_acc: 0.5060\n",
            "Epoch 6/30\n",
            "2000/2000 [==============================] - 29s 14ms/step - loss: 0.6921 - acc: 0.5145 - val_loss: 0.6926 - val_acc: 0.5040\n",
            "Epoch 7/30\n",
            "2000/2000 [==============================] - 29s 14ms/step - loss: 0.6933 - acc: 0.5280 - val_loss: 0.6924 - val_acc: 0.5180\n",
            "Epoch 8/30\n",
            "2000/2000 [==============================] - 29s 14ms/step - loss: 0.6879 - acc: 0.5460 - val_loss: 0.6930 - val_acc: 0.5060\n",
            "Epoch 9/30\n",
            "2000/2000 [==============================] - 29s 15ms/step - loss: 0.6859 - acc: 0.5630 - val_loss: 0.6929 - val_acc: 0.5080\n",
            "Epoch 10/30\n",
            "2000/2000 [==============================] - 29s 15ms/step - loss: 0.6788 - acc: 0.5680 - val_loss: 0.6936 - val_acc: 0.5000\n",
            "Epoch 11/30\n",
            "2000/2000 [==============================] - 29s 15ms/step - loss: 0.6608 - acc: 0.5760 - val_loss: 0.6930 - val_acc: 0.5140\n",
            "Epoch 12/30\n",
            "2000/2000 [==============================] - 29s 15ms/step - loss: 0.6353 - acc: 0.5870 - val_loss: 0.7009 - val_acc: 0.4860\n",
            "Epoch 13/30\n",
            "2000/2000 [==============================] - 29s 15ms/step - loss: 0.6079 - acc: 0.5860 - val_loss: 0.6942 - val_acc: 0.5100\n",
            "Epoch 14/30\n",
            "2000/2000 [==============================] - 29s 15ms/step - loss: 0.6028 - acc: 0.5960 - val_loss: 0.7003 - val_acc: 0.5040\n",
            "Epoch 15/30\n",
            "2000/2000 [==============================] - 29s 15ms/step - loss: 0.5903 - acc: 0.6145 - val_loss: 0.7099 - val_acc: 0.5040\n",
            "Epoch 16/30\n",
            "2000/2000 [==============================] - 29s 15ms/step - loss: 0.5815 - acc: 0.6040 - val_loss: 0.7570 - val_acc: 0.5040\n",
            "Epoch 17/30\n",
            "2000/2000 [==============================] - 29s 15ms/step - loss: 0.5947 - acc: 0.5925 - val_loss: 0.6944 - val_acc: 0.5160\n",
            "Epoch 18/30\n",
            "2000/2000 [==============================] - 29s 15ms/step - loss: 0.6032 - acc: 0.5925 - val_loss: 0.7030 - val_acc: 0.4980\n",
            "Epoch 19/30\n",
            "2000/2000 [==============================] - 30s 15ms/step - loss: 0.5699 - acc: 0.6270 - val_loss: 0.7375 - val_acc: 0.5160\n",
            "Epoch 20/30\n",
            "2000/2000 [==============================] - 29s 15ms/step - loss: 0.5906 - acc: 0.5920 - val_loss: 0.7084 - val_acc: 0.4980\n",
            "Epoch 21/30\n",
            "2000/2000 [==============================] - 29s 15ms/step - loss: 0.5736 - acc: 0.6240 - val_loss: 0.7363 - val_acc: 0.5060\n",
            "Epoch 22/30\n",
            "2000/2000 [==============================] - 29s 15ms/step - loss: 0.5562 - acc: 0.6285 - val_loss: 0.7213 - val_acc: 0.5080\n",
            "Epoch 23/30\n",
            "2000/2000 [==============================] - 29s 15ms/step - loss: 0.5476 - acc: 0.6560 - val_loss: 0.7278 - val_acc: 0.5060\n",
            "Epoch 24/30\n",
            "2000/2000 [==============================] - 29s 14ms/step - loss: 0.5793 - acc: 0.6255 - val_loss: 0.7451 - val_acc: 0.4900\n",
            "Epoch 25/30\n",
            "2000/2000 [==============================] - 29s 14ms/step - loss: 0.5436 - acc: 0.6355 - val_loss: 0.7884 - val_acc: 0.5160\n",
            "Epoch 26/30\n",
            "2000/2000 [==============================] - 29s 15ms/step - loss: 0.5385 - acc: 0.6550 - val_loss: 0.7410 - val_acc: 0.5020\n",
            "Epoch 27/30\n",
            "2000/2000 [==============================] - 29s 15ms/step - loss: 0.5457 - acc: 0.6595 - val_loss: 0.7180 - val_acc: 0.4920\n",
            "Epoch 28/30\n",
            "2000/2000 [==============================] - 30s 15ms/step - loss: 0.5874 - acc: 0.6095 - val_loss: 0.7314 - val_acc: 0.4940\n",
            "Epoch 29/30\n",
            "2000/2000 [==============================] - 29s 15ms/step - loss: 0.5319 - acc: 0.6770 - val_loss: 1.0495 - val_acc: 0.5420\n",
            "Epoch 30/30\n",
            "2000/2000 [==============================] - 30s 15ms/step - loss: 0.5157 - acc: 0.6970 - val_loss: 0.7632 - val_acc: 0.5120\n",
            "\n",
            "Accuracy: 49.90%\n"
          ],
          "name": "stdout"
        },
        {
          "output_type": "display_data",
          "data": {
            "image/png": "[encoded data removed]",
            "text/plain": [
              "<Figure size 1152x720 with 2 Axes>"
            ]
          },
          "metadata": {
            "tags": []
          }
        }
      ]
    },
    {
      "metadata": {
        "id": "JMdV6oiF2zRA",
        "colab_type": "code",
        "outputId": "3b28aaeb-ea58-4e8f-a89d-6db3645d7792",
        "colab": {
          "base_uri": "https://localhost:8080/",
          "height": 2388
        }
      },
      "cell_type": "code",
      "source": [
        "################################\n",
        "#########  Experiment  #########\n",
        "################################\n",
        "\n",
        "X_train, y_train, X_val, y_val, X_test, y_test = load_data(df_train, \n",
        "                                                           df_test, \n",
        "                                                           col='review_processed',\n",
        "                                                           vocab_size=10000,\n",
        "                                                           max_length=200)\n",
        "\n",
        "# define the model\n",
        "model = Sequential()\n",
        "model.add(Embedding(input_dim=10000, \n",
        "                    output_dim=8, \n",
        "                    input_length=200))\n",
        "model.add(Dropout(0.7))\n",
        "#model.add(Flatten())\n",
        "model.add(LSTM(20))\n",
        "model.add(Dropout(0.7))\n",
        "model.add(Dense(1, activation='sigmoid'))\n",
        "\n",
        "# compile the model\n",
        "model.compile(optimizer='adam', loss='binary_crossentropy', metrics=['acc'])\n",
        "\n",
        "# summarize the model\n",
        "print(model.summary())\n",
        "\n",
        "# fit the model\n",
        "history = model.fit(X_train, \n",
        "                    y_train, \n",
        "                    epochs=40, \n",
        "                    batch_size=64,\n",
        "                    validation_data=(X_val, y_val), \n",
        "                    verbose=1)\n",
        "\n",
        "# evaluate the model\n",
        "loss, accuracy = model.evaluate(X_test, y_test, verbose=0)\n",
        "print('\\nAccuracy: {:.2%}'.format(accuracy))\n",
        "\n",
        "plot_metrics(history)"
      ],
      "execution_count": 0,
      "outputs": [
        {
          "output_type": "stream",
          "text": [
            "WARNING:tensorflow:From /usr/local/lib/python3.6/dist-packages/keras/backend/tensorflow_backend.py:3445: calling dropout (from tensorflow.python.ops.nn_ops) with keep_prob is deprecated and will be removed in a future version.\n",
            "Instructions for updating:\n",
            "Please use `rate` instead of `keep_prob`. Rate should be set to `rate = 1 - keep_prob`.\n",
            "_________________________________________________________________\n",
            "Layer (type)                 Output Shape              Param #   \n",
            "=================================================================\n",
            "embedding_2 (Embedding)      (None, 200, 8)            80000     \n",
            "_________________________________________________________________\n",
            "dropout_1 (Dropout)          (None, 200, 8)            0         \n",
            "_________________________________________________________________\n",
            "lstm_2 (LSTM)                (None, 20)                2320      \n",
            "_________________________________________________________________\n",
            "dropout_2 (Dropout)          (None, 20)                0         \n",
            "_________________________________________________________________\n",
            "dense_2 (Dense)              (None, 1)                 21        \n",
            "=================================================================\n",
            "Total params: 82,341\n",
            "Trainable params: 82,341\n",
            "Non-trainable params: 0\n",
            "_________________________________________________________________\n",
            "None\n",
            "Train on 20000 samples, validate on 5000 samples\n",
            "Epoch 1/40\n",
            "20000/20000 [==============================] - 136s 7ms/step - loss: 0.6932 - acc: 0.4998 - val_loss: 0.6930 - val_acc: 0.5116\n",
            "Epoch 2/40\n",
            "20000/20000 [==============================] - 135s 7ms/step - loss: 0.6930 - acc: 0.5069 - val_loss: 0.6930 - val_acc: 0.4974\n",
            "Epoch 3/40\n",
            "20000/20000 [==============================] - 135s 7ms/step - loss: 0.6911 - acc: 0.5114 - val_loss: 0.6873 - val_acc: 0.5146\n",
            "Epoch 4/40\n",
            "20000/20000 [==============================] - 136s 7ms/step - loss: 0.6816 - acc: 0.5521 - val_loss: 0.6809 - val_acc: 0.5510\n",
            "Epoch 5/40\n",
            "20000/20000 [==============================] - 135s 7ms/step - loss: 0.6816 - acc: 0.5546 - val_loss: 0.6913 - val_acc: 0.5202\n",
            "Epoch 6/40\n",
            "20000/20000 [==============================] - 135s 7ms/step - loss: 0.6874 - acc: 0.5300 - val_loss: 0.6892 - val_acc: 0.5296\n",
            "Epoch 7/40\n",
            "20000/20000 [==============================] - 135s 7ms/step - loss: 0.6721 - acc: 0.5544 - val_loss: 0.6824 - val_acc: 0.5310\n",
            "Epoch 8/40\n",
            "20000/20000 [==============================] - 135s 7ms/step - loss: 0.6185 - acc: 0.6593 - val_loss: 0.5718 - val_acc: 0.7218\n",
            "Epoch 9/40\n",
            "20000/20000 [==============================] - 135s 7ms/step - loss: 0.6794 - acc: 0.5779 - val_loss: 0.6885 - val_acc: 0.5228\n",
            "Epoch 10/40\n",
            "20000/20000 [==============================] - 134s 7ms/step - loss: 0.6645 - acc: 0.6148 - val_loss: 0.6183 - val_acc: 0.7690\n",
            "Epoch 11/40\n",
            "20000/20000 [==============================] - 135s 7ms/step - loss: 0.5812 - acc: 0.7531 - val_loss: 0.5440 - val_acc: 0.7706\n",
            "Epoch 12/40\n",
            "20000/20000 [==============================] - 135s 7ms/step - loss: 0.5499 - acc: 0.7651 - val_loss: 0.5335 - val_acc: 0.7692\n",
            "Epoch 13/40\n",
            "20000/20000 [==============================] - 136s 7ms/step - loss: 0.5323 - acc: 0.7774 - val_loss: 0.5357 - val_acc: 0.7684\n",
            "Epoch 14/40\n",
            "20000/20000 [==============================] - 136s 7ms/step - loss: 0.5528 - acc: 0.7663 - val_loss: 0.5547 - val_acc: 0.7644\n",
            "Epoch 15/40\n",
            "20000/20000 [==============================] - 136s 7ms/step - loss: 0.5366 - acc: 0.7683 - val_loss: 0.5469 - val_acc: 0.7454\n",
            "Epoch 16/40\n",
            "20000/20000 [==============================] - 136s 7ms/step - loss: 0.5475 - acc: 0.7698 - val_loss: 0.5377 - val_acc: 0.7716\n",
            "Epoch 17/40\n",
            "20000/20000 [==============================] - 136s 7ms/step - loss: 0.5222 - acc: 0.7853 - val_loss: 0.5332 - val_acc: 0.7708\n",
            "Epoch 18/40\n",
            "20000/20000 [==============================] - 135s 7ms/step - loss: 0.5230 - acc: 0.7855 - val_loss: 0.5431 - val_acc: 0.7590\n",
            "Epoch 19/40\n",
            "20000/20000 [==============================] - 135s 7ms/step - loss: 0.5434 - acc: 0.7720 - val_loss: 0.5413 - val_acc: 0.7662\n",
            "Epoch 20/40\n",
            "20000/20000 [==============================] - 135s 7ms/step - loss: 0.5264 - acc: 0.7801 - val_loss: 0.7883 - val_acc: 0.5784\n",
            "Epoch 21/40\n",
            "20000/20000 [==============================] - 134s 7ms/step - loss: 0.6134 - acc: 0.6938 - val_loss: 0.5779 - val_acc: 0.7054\n",
            "Epoch 22/40\n",
            "20000/20000 [==============================] - 135s 7ms/step - loss: 0.5474 - acc: 0.7519 - val_loss: 0.5538 - val_acc: 0.7466\n",
            "Epoch 23/40\n",
            "20000/20000 [==============================] - 135s 7ms/step - loss: 0.5598 - acc: 0.7394 - val_loss: 0.5910 - val_acc: 0.6834\n",
            "Epoch 24/40\n",
            "20000/20000 [==============================] - 134s 7ms/step - loss: 0.5596 - acc: 0.7267 - val_loss: 0.5741 - val_acc: 0.7006\n",
            "Epoch 25/40\n",
            "20000/20000 [==============================] - 134s 7ms/step - loss: 0.5654 - acc: 0.7492 - val_loss: 0.5926 - val_acc: 0.7228\n",
            "Epoch 26/40\n",
            "20000/20000 [==============================] - 134s 7ms/step - loss: 0.5783 - acc: 0.7396 - val_loss: 0.5829 - val_acc: 0.7216\n",
            "Epoch 27/40\n",
            "20000/20000 [==============================] - 134s 7ms/step - loss: 0.5697 - acc: 0.7470 - val_loss: 0.5752 - val_acc: 0.7314\n",
            "Epoch 28/40\n",
            "20000/20000 [==============================] - 134s 7ms/step - loss: 0.5549 - acc: 0.7567 - val_loss: 0.5676 - val_acc: 0.7360\n",
            "Epoch 29/40\n",
            "20000/20000 [==============================] - 134s 7ms/step - loss: 0.6205 - acc: 0.6710 - val_loss: 0.6294 - val_acc: 0.6330\n",
            "Epoch 30/40\n",
            "20000/20000 [==============================] - 134s 7ms/step - loss: 0.5742 - acc: 0.7095 - val_loss: 0.5848 - val_acc: 0.6954\n",
            "Epoch 31/40\n",
            "20000/20000 [==============================] - 134s 7ms/step - loss: 0.5494 - acc: 0.7541 - val_loss: 0.5711 - val_acc: 0.7262\n",
            "Epoch 32/40\n",
            "20000/20000 [==============================] - 134s 7ms/step - loss: 0.5355 - acc: 0.7683 - val_loss: 0.5646 - val_acc: 0.7254\n",
            "Epoch 33/40\n",
            "20000/20000 [==============================] - 133s 7ms/step - loss: 0.5291 - acc: 0.7691 - val_loss: 0.5431 - val_acc: 0.7562\n",
            "Epoch 34/40\n",
            "20000/20000 [==============================] - 136s 7ms/step - loss: 0.5140 - acc: 0.7890 - val_loss: 0.5278 - val_acc: 0.7746\n",
            "Epoch 35/40\n",
            "20000/20000 [==============================] - 135s 7ms/step - loss: 0.5173 - acc: 0.7949 - val_loss: 0.5215 - val_acc: 0.7742\n",
            "Epoch 36/40\n",
            "20000/20000 [==============================] - 134s 7ms/step - loss: 0.5075 - acc: 0.7903 - val_loss: 0.5134 - val_acc: 0.7562\n",
            "Epoch 37/40\n",
            "20000/20000 [==============================] - 134s 7ms/step - loss: 0.5011 - acc: 0.8006 - val_loss: 0.5104 - val_acc: 0.7832\n",
            "Epoch 38/40\n",
            "20000/20000 [==============================] - 133s 7ms/step - loss: 0.6555 - acc: 0.5854 - val_loss: 0.6131 - val_acc: 0.6734\n",
            "Epoch 39/40\n",
            "20000/20000 [==============================] - 134s 7ms/step - loss: 0.7010 - acc: 0.6203 - val_loss: 0.6040 - val_acc: 0.6766\n",
            "Epoch 40/40\n",
            "20000/20000 [==============================] - 134s 7ms/step - loss: 0.5551 - acc: 0.7339 - val_loss: 0.4746 - val_acc: 0.8062\n",
            "\n",
            "Accuracy: 78.70%\n"
          ],
          "name": "stdout"
        },
        {
          "output_type": "display_data",
          "data": {
            "image/png": "[encoded data removed]",
            "text/plain": [
              "<Figure size 1152x720 with 2 Axes>"
            ]
          },
          "metadata": {
            "tags": []
          }
        }
      ]
    },
    {
      "metadata": {
        "id": "QakhZoqXaEP7",
        "colab_type": "text"
      },
      "cell_type": "markdown",
      "source": [
        "## Modeling with Word Embedding and RNN"
      ]
    },
    {
      "metadata": {
        "id": "rbPsVBteChfq",
        "colab_type": "code",
        "outputId": "d6d1e938-152c-4f29-ce26-00d2b8982d23",
        "colab": {
          "base_uri": "https://localhost:8080/",
          "height": 374
        }
      },
      "cell_type": "code",
      "source": [
        "model = Sequential()\n",
        "model.add(Embedding(vocab_size, 8, input_length=max_length))\n",
        "model.add(LSTM(128))\n",
        "model.add(Dropout(0.5))\n",
        "model.add(Dense(1, activation='sigmoid'))\n",
        "\n",
        "model.compile(loss='binary_crossentropy',\n",
        "              optimizer='rmsprop', \n",
        "              metrics=['accuracy'])\n",
        "\n",
        "model.fit(X_train, y_train, batch_size=128, epochs=10)"
      ],
      "execution_count": 0,
      "outputs": [
        {
          "output_type": "stream",
          "text": [
            "Epoch 1/10\n",
            "25000/25000 [==============================] - 107s 4ms/step - loss: 0.6932 - acc: 0.5056\n",
            "Epoch 2/10\n",
            "25000/25000 [==============================] - 93s 4ms/step - loss: 0.7299 - acc: 0.5122\n",
            "Epoch 3/10\n",
            "25000/25000 [==============================] - 94s 4ms/step - loss: 0.6650 - acc: 0.5968\n",
            "Epoch 4/10\n",
            "25000/25000 [==============================] - 93s 4ms/step - loss: 0.6373 - acc: 0.6454\n",
            "Epoch 5/10\n",
            "25000/25000 [==============================] - 94s 4ms/step - loss: 0.6258 - acc: 0.6634\n",
            "Epoch 6/10\n",
            "25000/25000 [==============================] - 94s 4ms/step - loss: 0.5549 - acc: 0.7556\n",
            "Epoch 7/10\n",
            "25000/25000 [==============================] - 93s 4ms/step - loss: 0.5707 - acc: 0.7102\n",
            "Epoch 8/10\n",
            "25000/25000 [==============================] - 93s 4ms/step - loss: 0.4792 - acc: 0.8064\n",
            "Epoch 9/10\n",
            "25000/25000 [==============================] - 93s 4ms/step - loss: 0.4071 - acc: 0.8587\n",
            "Epoch 10/10\n",
            "25000/25000 [==============================] - 91s 4ms/step - loss: 0.4394 - acc: 0.8392\n"
          ],
          "name": "stdout"
        },
        {
          "output_type": "execute_result",
          "data": {
            "text/plain": [
              "<keras.callbacks.History at 0x7fb4adf90940>"
            ]
          },
          "metadata": {
            "tags": []
          },
          "execution_count": 23
        }
      ]
    },
    {
      "metadata": {
        "id": "-TqawzrdOos7",
        "colab_type": "code",
        "outputId": "46070f26-a0bc-4a25-8b29-11a8d475370d",
        "colab": {
          "base_uri": "https://localhost:8080/",
          "height": 51
        }
      },
      "cell_type": "code",
      "source": [
        "score = model.evaluate(X_test, y_test)\n",
        "score"
      ],
      "execution_count": 0,
      "outputs": [
        {
          "output_type": "stream",
          "text": [
            "25000/25000 [==============================] - 129s 5ms/step\n"
          ],
          "name": "stdout"
        },
        {
          "output_type": "execute_result",
          "data": {
            "text/plain": [
              "[0.6118534841680526, 0.81644]"
            ]
          },
          "metadata": {
            "tags": []
          },
          "execution_count": 25
        }
      ]
    },
    {
      "metadata": {
        "id": "WzSbsvNxBfxK",
        "colab_type": "text"
      },
      "cell_type": "markdown",
      "source": [
        "## To-Do's\n",
        " \n",
        "- preprocess using spaCy\n",
        "- lemmatize based on pos: https://stackoverflow.com/questions/41824782/lemmatize-string-according-to-pos-nlp\n",
        "- 'desk\\x97symbol', '\\x91alonzo', '137', '230lbs', 'yes\\x97it', '1988\\x961992', 'yurets777', '94th', '20perr', '\\x84new', \n",
        "- trim to max length first and then one hot"
      ]
    },
    {
      "metadata": {
        "id": "JGj4dSmSIIFm",
        "colab_type": "text"
      },
      "cell_type": "markdown",
      "source": [
        "# Log\n",
        "- original linearSVC and countervectorizer: 84.14%\n",
        "- Logistic Regression and tfidf: 88.33%\n",
        "- Initial NN: 85.05%\n",
        "- SVC with preprocess: 84.14%\n",
        "- NN with preprocess and new embed: 85.53%\n",
        "- Keras embedding and dropout (0.5): 86.33%\n",
        "- Keras embedding and dropout (0.7): 87.42%\n",
        "- Keras embedding and dropout (0.7), coverage (400): 86.48%\n",
        "\n",
        "took 37.5 min to convert to embedding before preprocessing, 20 min after preprocessing."
      ]
    },
    {
      "metadata": {
        "id": "vsOGCxY595k5",
        "colab_type": "code",
        "colab": {}
      },
      "cell_type": "code",
      "source": [
        "def cosine_similarity(v1, v2):\n",
        "  return np.dot(v1, v2) / (np.linalg.norm(v1) * np.linalg.norm(v2))"
      ],
      "execution_count": 0,
      "outputs": []
    },
    {
      "metadata": {
        "id": "B01rb69UCaQO",
        "colab_type": "code",
        "colab": {}
      },
      "cell_type": "code",
      "source": [
        ""
      ],
      "execution_count": 0,
      "outputs": []
    }
  ]
}
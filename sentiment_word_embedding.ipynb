{
  "nbformat": 4,
  "nbformat_minor": 0,
  "metadata": {
    "colab": {
      "name": "sentiment_word_embedding.ipynb",
      "version": "0.3.2",
      "provenance": [],
      "collapsed_sections": [],
      "include_colab_link": true
    },
    "kernelspec": {
      "name": "python3",
      "display_name": "Python 3"
    },
    "accelerator": "GPU"
  },
  "cells": [
    {
      "cell_type": "markdown",
      "metadata": {
        "id": "view-in-github",
        "colab_type": "text"
      },
      "source": [
        "<a href=\"https://colab.research.google.com/github/georgeliu1998/sentiment_word_embedding/blob/master/sentiment_word_embedding.ipynb\" target=\"_parent\"><img src=\"https://colab.research.google.com/assets/colab-badge.svg\" alt=\"Open In Colab\"/></a>"
      ]
    },
    {
      "metadata": {
        "id": "M30eGYwFZTaE",
        "colab_type": "text"
      },
      "cell_type": "markdown",
      "source": [
        "# Sentiment Analysis with Word Embedding and RNN"
      ]
    },
    {
      "metadata": {
        "id": "lhRK0W7VZL8D",
        "colab_type": "text"
      },
      "cell_type": "markdown",
      "source": [
        "## Set up the Environment"
      ]
    },
    {
      "metadata": {
        "id": "0fnH-78sMTIj",
        "colab_type": "code",
        "outputId": "8530fc00-b563-4cfa-d0c9-c3d3e0986ad0",
        "colab": {
          "base_uri": "https://localhost:8080/",
          "height": 34
        }
      },
      "cell_type": "code",
      "source": [
        "import numpy as np\n",
        "np.random.seed(8)\n",
        "seed = np.random.RandomState(8)\n",
        "\n",
        "import tensorflow as tf\n",
        "tf.set_random_seed(8)\n",
        "\n",
        "import urllib.request\n",
        "import tarfile\n",
        "import os\n",
        "import re\n",
        "import string\n",
        "from time import time\n",
        "\n",
        "import pandas as pd\n",
        "import spacy\n",
        "import nltk\n",
        "import matplotlib.pyplot as plt\n",
        "from nltk.corpus import stopwords\n",
        "from nltk.stem import WordNetLemmatizer\n",
        "\n",
        "from keras.models import Sequential\n",
        "from keras.layers import Dense, Activation, Dropout, Flatten, LSTM, GlobalAveragePooling1D\n",
        "from keras.preprocessing.text import one_hot\n",
        "from keras.preprocessing.sequence import pad_sequences\n",
        "from keras.layers.embeddings import Embedding\n",
        "\n",
        "from sklearn.svm import LinearSVC\n",
        "from sklearn.linear_model import LogisticRegression\n",
        "from sklearn.metrics import accuracy_score\n",
        "from sklearn.model_selection import train_test_split\n",
        "from sklearn.feature_extraction.text import CountVectorizer\n",
        "from sklearn.feature_extraction.text import TfidfVectorizer\n",
        "\n",
        "import xgboost as xgb"
      ],
      "execution_count": 1,
      "outputs": [
        {
          "output_type": "stream",
          "text": [
            "Using TensorFlow backend.\n"
          ],
          "name": "stderr"
        }
      ]
    },
    {
      "metadata": {
        "id": "JYC2cCNcik-Q",
        "colab_type": "code",
        "outputId": "1ed46470-7652-4714-d329-929e7a7240a7",
        "colab": {
          "base_uri": "https://localhost:8080/",
          "height": 122
        }
      },
      "cell_type": "code",
      "source": [
        "from google.colab import drive\n",
        "drive.mount('/content/gdrive')"
      ],
      "execution_count": 2,
      "outputs": [
        {
          "output_type": "stream",
          "text": [
            "Go to this URL in a browser: https://accounts.google.com/o/oauth2/auth?client_id=947318989803-6bn6qk8qdgf4n4g3pfee6491hc0brc4i.apps.googleusercontent.com&redirect_uri=urn%3Aietf%3Awg%3Aoauth%3A2.0%3Aoob&scope=email%20https%3A%2F%2Fwww.googleapis.com%2Fauth%2Fdocs.test%20https%3A%2F%2Fwww.googleapis.com%2Fauth%2Fdrive%20https%3A%2F%2Fwww.googleapis.com%2Fauth%2Fdrive.photos.readonly%20https%3A%2F%2Fwww.googleapis.com%2Fauth%2Fpeopleapi.readonly&response_type=code\n",
            "\n",
            "Enter your authorization code:\n",
            "··········\n",
            "Mounted at /content/gdrive\n"
          ],
          "name": "stdout"
        }
      ]
    },
    {
      "metadata": {
        "id": "d6_GZp-uB6Pg",
        "colab_type": "code",
        "outputId": "fb482ac7-0a3d-4dfd-e368-f7138d843ff1",
        "colab": {
          "base_uri": "https://localhost:8080/",
          "height": 102
        }
      },
      "cell_type": "code",
      "source": [
        "nltk.download('stopwords')\n",
        "nltk.download('wordnet')"
      ],
      "execution_count": 2,
      "outputs": [
        {
          "output_type": "stream",
          "text": [
            "[nltk_data] Downloading package stopwords to /root/nltk_data...\n",
            "[nltk_data]   Unzipping corpora/stopwords.zip.\n",
            "[nltk_data] Downloading package wordnet to /root/nltk_data...\n",
            "[nltk_data]   Unzipping corpora/wordnet.zip.\n"
          ],
          "name": "stdout"
        },
        {
          "output_type": "execute_result",
          "data": {
            "text/plain": [
              "True"
            ]
          },
          "metadata": {
            "tags": []
          },
          "execution_count": 2
        }
      ]
    },
    {
      "metadata": {
        "id": "TebrmRNH7yX_",
        "colab_type": "code",
        "outputId": "bd425c4e-0b6c-4c02-bfa3-d91e0537e88d",
        "colab": {
          "base_uri": "https://localhost:8080/",
          "height": 238
        }
      },
      "cell_type": "code",
      "source": [
        "!python -m spacy download en_core_web_md"
      ],
      "execution_count": 32,
      "outputs": [
        {
          "output_type": "stream",
          "text": [
            "Collecting en_core_web_md==2.0.0 from https://github.com/explosion/spacy-models/releases/download/en_core_web_md-2.0.0/en_core_web_md-2.0.0.tar.gz#egg=en_core_web_md==2.0.0\n",
            "\u001b[?25l  Downloading https://github.com/explosion/spacy-models/releases/download/en_core_web_md-2.0.0/en_core_web_md-2.0.0.tar.gz (120.8MB)\n",
            "\u001b[K    100% |████████████████████████████████| 120.9MB 44.6MB/s \n",
            "\u001b[?25hInstalling collected packages: en-core-web-md\n",
            "  Running setup.py install for en-core-web-md ... \u001b[?25ldone\n",
            "\u001b[?25hSuccessfully installed en-core-web-md-2.0.0\n",
            "\n",
            "\u001b[93m    Linking successful\u001b[0m\n",
            "    /usr/local/lib/python3.6/dist-packages/en_core_web_md -->\n",
            "    /usr/local/lib/python3.6/dist-packages/spacy/data/en_core_web_md\n",
            "\n",
            "    You can now load the model via spacy.load('en_core_web_md')\n",
            "\n"
          ],
          "name": "stdout"
        }
      ]
    },
    {
      "metadata": {
        "id": "pjY8A5pScjOI",
        "colab_type": "code",
        "colab": {
          "base_uri": "https://localhost:8080/",
          "height": 238
        },
        "outputId": "5dca188e-1e09-4060-92f1-ad8d7ad0e450"
      },
      "cell_type": "code",
      "source": [
        "!python -m spacy download en_vectors_web_lg"
      ],
      "execution_count": 39,
      "outputs": [
        {
          "output_type": "stream",
          "text": [
            "Collecting en_vectors_web_lg==2.0.0 from https://github.com/explosion/spacy-models/releases/download/en_vectors_web_lg-2.0.0/en_vectors_web_lg-2.0.0.tar.gz#egg=en_vectors_web_lg==2.0.0\n",
            "\u001b[?25l  Downloading https://github.com/explosion/spacy-models/releases/download/en_vectors_web_lg-2.0.0/en_vectors_web_lg-2.0.0.tar.gz (661.8MB)\n",
            "\u001b[K    100% |████████████████████████████████| 661.8MB 45.3MB/s \n",
            "\u001b[?25hInstalling collected packages: en-vectors-web-lg\n",
            "  Running setup.py install for en-vectors-web-lg ... \u001b[?25ldone\n",
            "\u001b[?25hSuccessfully installed en-vectors-web-lg-2.0.0\n",
            "\n",
            "\u001b[93m    Linking successful\u001b[0m\n",
            "    /usr/local/lib/python3.6/dist-packages/en_vectors_web_lg -->\n",
            "    /usr/local/lib/python3.6/dist-packages/spacy/data/en_vectors_web_lg\n",
            "\n",
            "    You can now load the model via spacy.load('en_vectors_web_lg')\n",
            "\n"
          ],
          "name": "stdout"
        }
      ]
    },
    {
      "metadata": {
        "id": "2wNUgX54YRs5",
        "colab_type": "text"
      },
      "cell_type": "markdown",
      "source": [
        "## Get the Data"
      ]
    },
    {
      "metadata": {
        "id": "xJJvv-Xaoc0n",
        "colab_type": "code",
        "outputId": "94b731c8-b950-431b-c917-8c2d043427d8",
        "colab": {
          "base_uri": "https://localhost:8080/",
          "height": 51
        }
      },
      "cell_type": "code",
      "source": [
        "url = 'http://ai.stanford.edu/~amaas/data/sentiment/aclImdb_v1.tar.gz'\n",
        "\n",
        "path = './gdrive/My Drive/WorkingDir/sentiment_word_embedding'\n",
        "download_folder = 'raw_data'\n",
        "download_name = 'imdb.tar.gz'\n",
        "path_name = os.path.join(path, download_folder, download_name)\n",
        "\n",
        "# Download data to the specified path\n",
        "urllib.request.urlretrieve(url, path_name)\n",
        "\n",
        "#extract_path = os.path.join(path, download_folder)\n",
        "\n",
        "with tarfile.open(path_name) as tar:\n",
        "  #tar.extractall(path=extract_path)\n",
        "  tar.extractall()"
      ],
      "execution_count": 0,
      "outputs": [
        {
          "output_type": "execute_result",
          "data": {
            "text/plain": [
              "('./gdrive/My Drive/WorkingDir/sentiment_word_embedding/raw_data/imdb.tar.gz',\n",
              " <http.client.HTTPMessage at 0x7fa4dbb55898>)"
            ]
          },
          "metadata": {
            "tags": []
          },
          "execution_count": 5
        }
      ]
    },
    {
      "metadata": {
        "id": "ci38QxEB_K7x",
        "colab_type": "code",
        "colab": {}
      },
      "cell_type": "code",
      "source": [
        "def load_imdb(path):\n",
        "  \"\"\"\n",
        "  Loads train and test data into dataframes.\n",
        "\n",
        "  Params\n",
        "  ---------------------\n",
        "  path: str\n",
        "    The path to the unzipped aclImdb folder.\n",
        "\n",
        "  Returns\n",
        "  ---------------------\n",
        "  df_train, df_test: tuple of of pandas df\n",
        "    The dataframes created from data\n",
        "  \"\"\"\n",
        "\n",
        "  data = {}\n",
        "\n",
        "  for split in ['train', 'test']:\n",
        "    data[split] = []\n",
        "\n",
        "    for label in ['pos', 'neg']:\n",
        "      sentiment = 1 if label == 'pos' else 0\n",
        "      file_names = os.listdir(os.path.join(path, split, label))\n",
        "\n",
        "      for file_name in file_names:\n",
        "        file_path = os.path.join(path, split, label, file_name)\n",
        "        with open(file_path, \"r\") as f:\n",
        "          review = f.read()\n",
        "\n",
        "          data[split].append([review, sentiment])\n",
        "\n",
        "  np.random.shuffle(data['train'])        \n",
        "  df_train = pd.DataFrame(data['train'], columns=['review', 'sentiment'])\n",
        "\n",
        "  np.random.shuffle(data['test'])\n",
        "  df_test = pd.DataFrame(data['test'], columns=['review', 'sentiment'])\n",
        "\n",
        "  return df_train, df_test\n",
        "\n",
        "\n",
        "def save_df(df, path, save_name):\n",
        "  file_name = save_name + '.csv'\n",
        "  path_name = os.path.join(path, file_name)\n",
        "  \n",
        "  df.to_csv(path_name, index=False)\n",
        "\n",
        "\n",
        "def load_df():\n",
        "  \"\"\"\n",
        "  Loads all train test dataframes\n",
        "  \"\"\"\n",
        "  \n",
        "  path = './gdrive/My Drive/WorkingDir/sentiment_word_embedding'\n",
        "  \n",
        "  df_train = pd.read_csv(os.path.join(path, 'df_train.csv'))\n",
        "  df_test = pd.read_csv(os.path.join(path, 'df_test.csv'))\n",
        "  \n",
        "  return df_train, df_test \n",
        "\n",
        "\n",
        "def load_data_embedded():\n",
        "  \"\"\"\n",
        "  Loads the spaCy embedded\n",
        "  \"\"\"\n",
        "  path = './gdrive/My Drive/WorkingDir/sentiment_word_embedding'\n",
        "  \n",
        "  X_train = np.loadtxt(os.path.join(path, 'X_train_vector.csv'), delimiter=\",\")\n",
        "  X_test = np.loadtxt(os.path.join(path, 'X_test_vector.csv'), delimiter=\",\")\n",
        "  \n",
        "  y_train, y_test = df_train['sentiment'], df_test['sentiment']\n",
        "\n",
        "  return X_train, y_train, X_test, y_test"
      ],
      "execution_count": 0,
      "outputs": []
    },
    {
      "metadata": {
        "id": "0EERavHavVyl",
        "colab_type": "code",
        "colab": {}
      },
      "cell_type": "code",
      "source": [
        "df_train, df_test = load_imdb('./aclImdb')\n",
        "\n",
        "save_df(df=df_train, path=path, save_name='df_train')\n",
        "save_df(df=df_test, path=path, save_name='df_test')"
      ],
      "execution_count": 0,
      "outputs": []
    },
    {
      "metadata": {
        "id": "grJH6_8ZYu8a",
        "colab_type": "text"
      },
      "cell_type": "markdown",
      "source": [
        "##  Clean Text"
      ]
    },
    {
      "metadata": {
        "id": "X5zWJ-deU7ps",
        "colab_type": "code",
        "colab": {}
      },
      "cell_type": "code",
      "source": [
        "def preprocess_text(text, lemmatizing=False):\n",
        "    \"\"\"\n",
        "    Preprocesses text by removing all stop words and lemmatizing.\n",
        "    \n",
        "    Params\n",
        "    --------------\n",
        "    text: str\n",
        "      the string to be cleaned\n",
        "    \n",
        "    Returns\n",
        "    --------------\n",
        "    text: str\n",
        "      the cleaned string\n",
        "\n",
        "    \"\"\"\n",
        "    text = text.lower()\n",
        "    \n",
        "    if lemmatizing:\n",
        "      lemmatizer = WordNetLemmatizer()\n",
        "      text = ' '.join([lemmatizer.lemmatize(word, pos='v') for word in text.split()])\n",
        "    \n",
        "    # Remove html tags\n",
        "    text = re.sub(r'<.*?>', '', text)\n",
        "    \n",
        "    # Replace punctuation with spaces\n",
        "    translator = str.maketrans(string.punctuation, ' '*len(string.punctuation))\n",
        "    text = text.translate(translator)\n",
        "\n",
        "    # Remove stop words\n",
        "    text = ' '.join([word for word in text.split() if word not in stopwords.words('english')])\n",
        "    \n",
        "    # Remove additional white spaces\n",
        "    text = ' '.join(text.split())\n",
        "    \n",
        "    return text"
      ],
      "execution_count": 0,
      "outputs": []
    },
    {
      "metadata": {
        "id": "ok0pLI_fPqDY",
        "colab_type": "code",
        "outputId": "3ac534af-f104-4ce2-a7c0-17e3441d83e4",
        "colab": {
          "base_uri": "https://localhost:8080/",
          "height": 34
        }
      },
      "cell_type": "code",
      "source": [
        "t1 = time()\n",
        "\n",
        "X_train = df_train['review'].apply(preprocess_text)\n",
        "\n",
        "t2 = time()\n",
        "\n",
        "t = (t2 - t1) / 60\n",
        "\n",
        "print('Took {} min'.format(t))"
      ],
      "execution_count": 0,
      "outputs": [
        {
          "output_type": "stream",
          "text": [
            "Took 14.381852738062541 min\n"
          ],
          "name": "stdout"
        }
      ]
    },
    {
      "metadata": {
        "id": "pILIhW75QSJv",
        "colab_type": "code",
        "outputId": "a95194bb-19e5-4f72-db26-755384008d44",
        "colab": {
          "base_uri": "https://localhost:8080/",
          "height": 204
        }
      },
      "cell_type": "code",
      "source": [
        "df_train['review_processed'] = X_train\n",
        "df_train.head()"
      ],
      "execution_count": 0,
      "outputs": [
        {
          "output_type": "execute_result",
          "data": {
            "text/html": [
              "<div>\n",
              "<style scoped>\n",
              "    .dataframe tbody tr th:only-of-type {\n",
              "        vertical-align: middle;\n",
              "    }\n",
              "\n",
              "    .dataframe tbody tr th {\n",
              "        vertical-align: top;\n",
              "    }\n",
              "\n",
              "    .dataframe thead th {\n",
              "        text-align: right;\n",
              "    }\n",
              "</style>\n",
              "<table border=\"1\" class=\"dataframe\">\n",
              "  <thead>\n",
              "    <tr style=\"text-align: right;\">\n",
              "      <th></th>\n",
              "      <th>review</th>\n",
              "      <th>sentiment</th>\n",
              "      <th>review_processed</th>\n",
              "    </tr>\n",
              "  </thead>\n",
              "  <tbody>\n",
              "    <tr>\n",
              "      <th>0</th>\n",
              "      <td>I could never remember the name of this show. ...</td>\n",
              "      <td>1</td>\n",
              "      <td>-0.037421</td>\n",
              "    </tr>\n",
              "    <tr>\n",
              "      <th>1</th>\n",
              "      <td>Going into this movie, I had heard good things...</td>\n",
              "      <td>1</td>\n",
              "      <td>-0.009028</td>\n",
              "    </tr>\n",
              "    <tr>\n",
              "      <th>2</th>\n",
              "      <td>The only scary thing about this movie is the t...</td>\n",
              "      <td>0</td>\n",
              "      <td>-0.050488</td>\n",
              "    </tr>\n",
              "    <tr>\n",
              "      <th>3</th>\n",
              "      <td>This deserves a 12 out of 10. An absolutely re...</td>\n",
              "      <td>1</td>\n",
              "      <td>-0.047448</td>\n",
              "    </tr>\n",
              "    <tr>\n",
              "      <th>4</th>\n",
              "      <td>Joan Fontaine is \"A Damsel in Distress\" in thi...</td>\n",
              "      <td>1</td>\n",
              "      <td>-0.060614</td>\n",
              "    </tr>\n",
              "  </tbody>\n",
              "</table>\n",
              "</div>"
            ],
            "text/plain": [
              "                                              review  sentiment  \\\n",
              "0  I could never remember the name of this show. ...          1   \n",
              "1  Going into this movie, I had heard good things...          1   \n",
              "2  The only scary thing about this movie is the t...          0   \n",
              "3  This deserves a 12 out of 10. An absolutely re...          1   \n",
              "4  Joan Fontaine is \"A Damsel in Distress\" in thi...          1   \n",
              "\n",
              "   review_processed  \n",
              "0         -0.037421  \n",
              "1         -0.009028  \n",
              "2         -0.050488  \n",
              "3         -0.047448  \n",
              "4         -0.060614  "
            ]
          },
          "metadata": {
            "tags": []
          },
          "execution_count": 44
        }
      ]
    },
    {
      "metadata": {
        "id": "2XudtfS1g3wT",
        "colab_type": "code",
        "colab": {}
      },
      "cell_type": "code",
      "source": [
        "save_df(df=df_train, path=path, save_name='df_train')"
      ],
      "execution_count": 0,
      "outputs": []
    },
    {
      "metadata": {
        "id": "YlCB09DshTs_",
        "colab_type": "code",
        "outputId": "9af9a5af-5395-4895-f2b6-94f7b2daa2c5",
        "colab": {
          "base_uri": "https://localhost:8080/",
          "height": 34
        }
      },
      "cell_type": "code",
      "source": [
        "t1 = time()\n",
        "\n",
        "df_test['review_processed'] = df_test['review'].apply(preprocess_text)\n",
        "\n",
        "t2 = time()\n",
        "\n",
        "t = (t2 - t1) / 60\n",
        "\n",
        "save_df(df=df_test, path=path, save_name='df_test')\n",
        "\n",
        "print('Took {} min'.format(t))"
      ],
      "execution_count": 0,
      "outputs": [
        {
          "output_type": "stream",
          "text": [
            "Took 13.990289672215779 min\n"
          ],
          "name": "stdout"
        }
      ]
    },
    {
      "metadata": {
        "id": "uUt3V0gaovvf",
        "colab_type": "code",
        "outputId": "8928eae5-03dd-4de0-89d3-e5546fb250fa",
        "colab": {
          "base_uri": "https://localhost:8080/",
          "height": 204
        }
      },
      "cell_type": "code",
      "source": [
        "df_test.head()"
      ],
      "execution_count": 0,
      "outputs": [
        {
          "output_type": "execute_result",
          "data": {
            "text/html": [
              "<div>\n",
              "<style scoped>\n",
              "    .dataframe tbody tr th:only-of-type {\n",
              "        vertical-align: middle;\n",
              "    }\n",
              "\n",
              "    .dataframe tbody tr th {\n",
              "        vertical-align: top;\n",
              "    }\n",
              "\n",
              "    .dataframe thead th {\n",
              "        text-align: right;\n",
              "    }\n",
              "</style>\n",
              "<table border=\"1\" class=\"dataframe\">\n",
              "  <thead>\n",
              "    <tr style=\"text-align: right;\">\n",
              "      <th></th>\n",
              "      <th>review</th>\n",
              "      <th>sentiment</th>\n",
              "      <th>review_processed</th>\n",
              "    </tr>\n",
              "  </thead>\n",
              "  <tbody>\n",
              "    <tr>\n",
              "      <th>0</th>\n",
              "      <td>\"Thunderbolt\" is probably Jackie Chan's worst ...</td>\n",
              "      <td>0</td>\n",
              "      <td>thunderbolt probably jackie chan worst movie s...</td>\n",
              "    </tr>\n",
              "    <tr>\n",
              "      <th>1</th>\n",
              "      <td>This is the worst movie that I have ever seen....</td>\n",
              "      <td>0</td>\n",
              "      <td>worst movie ever seen first thought going good...</td>\n",
              "    </tr>\n",
              "    <tr>\n",
              "      <th>2</th>\n",
              "      <td>(Warning: Some spoilers ahead.)&lt;br /&gt;&lt;br /&gt;Wha...</td>\n",
              "      <td>0</td>\n",
              "      <td>warning spoilers ahead incredibly crappy movie...</td>\n",
              "    </tr>\n",
              "    <tr>\n",
              "      <th>3</th>\n",
              "      <td>This film is a perfect example of how to take ...</td>\n",
              "      <td>0</td>\n",
              "      <td>film perfect example take fascinating subject ...</td>\n",
              "    </tr>\n",
              "    <tr>\n",
              "      <th>4</th>\n",
              "      <td>Ok, everybody agreed on what was the best seas...</td>\n",
              "      <td>1</td>\n",
              "      <td>ok everybody agreed best season first killing ...</td>\n",
              "    </tr>\n",
              "  </tbody>\n",
              "</table>\n",
              "</div>"
            ],
            "text/plain": [
              "                                              review  sentiment  \\\n",
              "0  \"Thunderbolt\" is probably Jackie Chan's worst ...          0   \n",
              "1  This is the worst movie that I have ever seen....          0   \n",
              "2  (Warning: Some spoilers ahead.)<br /><br />Wha...          0   \n",
              "3  This film is a perfect example of how to take ...          0   \n",
              "4  Ok, everybody agreed on what was the best seas...          1   \n",
              "\n",
              "                                    review_processed  \n",
              "0  thunderbolt probably jackie chan worst movie s...  \n",
              "1  worst movie ever seen first thought going good...  \n",
              "2  warning spoilers ahead incredibly crappy movie...  \n",
              "3  film perfect example take fascinating subject ...  \n",
              "4  ok everybody agreed best season first killing ...  "
            ]
          },
          "metadata": {
            "tags": []
          },
          "execution_count": 79
        }
      ]
    },
    {
      "metadata": {
        "id": "3pzoPTvqv3cb",
        "colab_type": "text"
      },
      "cell_type": "markdown",
      "source": [
        "## Split Data"
      ]
    },
    {
      "metadata": {
        "id": "voc1sGMzwCVh",
        "colab_type": "code",
        "colab": {}
      },
      "cell_type": "code",
      "source": [
        "def vectorize(df, col, vocab_size, max_length):\n",
        "  \"\"\"\n",
        "  Vectorizes input texts by applying Keras one-hot encoding and padding\n",
        "  \n",
        "  Params\n",
        "  ----------------------\n",
        "  df: Pandas dataframe\n",
        "    The dataframe to vectorize\n",
        "  vocab_size: int\n",
        "    Vocabulary size to use\n",
        "  max_length: int\n",
        "    Max length of reviews to use\n",
        "  \n",
        "  Returns\n",
        "  ----------------------\n",
        "  X: Numpy array  \n",
        "    The vectorized feature column\n",
        "  \"\"\"\n",
        "  X_oh = df[col].apply(lambda x: one_hot(text=x, n=vocab_size))\n",
        "  # Convert to array of lists\n",
        "  #X_oh = np.array([x for x in X_oh])\n",
        "  # Keep only up to max length for each review\n",
        "  X_oh = X_oh.apply(lambda x: x[0:max_length] if len(x)>max_length else x)\n",
        "  # Pad reviews shorter than max_length with \n",
        "  X = pad_sequences(X_oh, maxlen=max_length, padding='post')\n",
        " \n",
        "  return X\n",
        "\n",
        "\n",
        "def load_data(df_train, \n",
        "              df_test, \n",
        "              col, \n",
        "              val_split=0.2, \n",
        "              vocab_size=110000, \n",
        "              max_length=200):\n",
        "  \"\"\"\n",
        "  Loads the train, validation and test data as numpy arrays\n",
        "  \"\"\"\n",
        "  X_train = vectorize(df=df_train, \n",
        "                      col=col, \n",
        "                      vocab_size=vocab_size,\n",
        "                      max_length=max_length)\n",
        "  y_train = df_train['sentiment']\n",
        "  \n",
        "  X_train, X_val, y_train, y_val = train_test_split(X_train, \n",
        "                                                    y_train, \n",
        "                                                    test_size=val_split, \n",
        "                                                    random_state=seed)\n",
        "  \n",
        "  X_test = vectorize(df=df_test,\n",
        "                     col=col,\n",
        "                     vocab_size=vocab_size,\n",
        "                     max_length=max_length)\n",
        "  y_test = df_test['sentiment']\n",
        "  \n",
        "  return X_train, y_train, X_val, y_val, X_test, y_test "
      ],
      "execution_count": 0,
      "outputs": []
    },
    {
      "metadata": {
        "id": "Nzzzr2BNu3-r",
        "colab_type": "code",
        "colab": {
          "base_uri": "https://localhost:8080/",
          "height": 34
        },
        "outputId": "b3ee8bf1-c29a-480e-f80c-2f606cb1ced2"
      },
      "cell_type": "code",
      "source": [
        "df_train, df_test = load_df()\n",
        "\n",
        "X_train, y_train, X_val, y_val, X_test, y_test = load_data(df_train, \n",
        "                                                           df_test, \n",
        "                                                           col='review_processed',\n",
        "                                                           vocab_size=10000,\n",
        "                                                           max_length=200)\n",
        "\n",
        "X_train.shape, y_train.shape, X_val.shape, y_val.shape, X_test.shape, y_test.shape"
      ],
      "execution_count": 33,
      "outputs": [
        {
          "output_type": "execute_result",
          "data": {
            "text/plain": [
              "((20000, 200), (20000,), (5000, 200), (5000,), (25000, 200), (25000,))"
            ]
          },
          "metadata": {
            "tags": []
          },
          "execution_count": 33
        }
      ]
    },
    {
      "metadata": {
        "id": "qUNAd0ZYzHLn",
        "colab_type": "code",
        "colab": {
          "base_uri": "https://localhost:8080/",
          "height": 136
        },
        "outputId": "69af413d-b634-4a84-c693-3c06182b7c86"
      },
      "cell_type": "code",
      "source": [
        "X_train"
      ],
      "execution_count": 20,
      "outputs": [
        {
          "output_type": "execute_result",
          "data": {
            "text/plain": [
              "array([[ 91182,  66911,  80345, ...,      0,      0,      0],\n",
              "       [ 58314,  34417,  88452, ...,      0,      0,      0],\n",
              "       [107586, 109694,  63740, ...,      0,      0,      0],\n",
              "       ...,\n",
              "       [  4553,  15803,   1084, ...,      0,      0,      0],\n",
              "       [ 32836,  88475,  54658, ...,      0,      0,      0],\n",
              "       [ 34417,  50076,  97821, ...,      0,      0,      0]], dtype=int32)"
            ]
          },
          "metadata": {
            "tags": []
          },
          "execution_count": 20
        }
      ]
    },
    {
      "metadata": {
        "id": "5dWsdtN_OI_1",
        "colab_type": "text"
      },
      "cell_type": "markdown",
      "source": [
        "## Exploratory Data Analysis"
      ]
    },
    {
      "metadata": {
        "id": "UPIIySqKKjO4",
        "colab_type": "code",
        "colab": {}
      },
      "cell_type": "code",
      "source": [
        "def get_vocab(df):\n",
        "  \"\"\"\n",
        "  Gets the vocabulary in the review column and prints the size of the vocab\n",
        "  \n",
        "  Params\n",
        "  ----------------------\n",
        "  df: pandas dataframe\n",
        "    The input dataframe\n",
        "  \n",
        "  Returns\n",
        "  ----------------------\n",
        "  vocab: Python set\n",
        "    The unique vocabulary\n",
        "  \n",
        "  \"\"\"\n",
        "  vocab = set()\n",
        "  \n",
        "  for i in df['review_processed'].str.split():\n",
        "    vocab.update(i)\n",
        "  \n",
        "  print(\"Vocabulary size: {}\".format(len(vocab)))\n",
        "  return vocab\n",
        "\n",
        "\n",
        "def get_vocab_frequency(df):\n",
        "  \"\"\"\n",
        "  \n",
        "  \"\"\"\n",
        "  return df['review_processed'].str.split(expand=True).stack().value_counts()"
      ],
      "execution_count": 0,
      "outputs": []
    },
    {
      "metadata": {
        "id": "s2WDJU3BPM03",
        "colab_type": "code",
        "outputId": "5b63ffd5-b80b-4e4a-eb2b-1edb233d51bb",
        "colab": {
          "base_uri": "https://localhost:8080/",
          "height": 51
        }
      },
      "cell_type": "code",
      "source": [
        "vocab_train = get_vocab(df=df_train) \n",
        "vocab_test = get_vocab(df=df_test) "
      ],
      "execution_count": 8,
      "outputs": [
        {
          "output_type": "stream",
          "text": [
            "Vocabulary size: 76298\n",
            "Vocabulary size: 75456\n"
          ],
          "name": "stdout"
        }
      ]
    },
    {
      "metadata": {
        "id": "bgOq8OQRKja-",
        "colab_type": "code",
        "outputId": "0a8091cc-32ae-48b5-8d93-39f184fc7610",
        "colab": {
          "base_uri": "https://localhost:8080/",
          "height": 34
        }
      },
      "cell_type": "code",
      "source": [
        "vocab = set.union(vocab_train, vocab_test)\n",
        "len(vocab)"
      ],
      "execution_count": 9,
      "outputs": [
        {
          "output_type": "execute_result",
          "data": {
            "text/plain": [
              "104971"
            ]
          },
          "metadata": {
            "tags": []
          },
          "execution_count": 9
        }
      ]
    },
    {
      "metadata": {
        "id": "Jmsb3b6WKjh9",
        "colab_type": "code",
        "colab": {}
      },
      "cell_type": "code",
      "source": [
        "vocab"
      ],
      "execution_count": 0,
      "outputs": []
    },
    {
      "metadata": {
        "id": "n589yjft3Oh4",
        "colab_type": "code",
        "outputId": "cd698e99-9c52-41c9-f9f9-2b301e246a4f",
        "colab": {
          "base_uri": "https://localhost:8080/",
          "height": 364
        }
      },
      "cell_type": "code",
      "source": [
        "# Check the length distribution\n",
        "df_train.review_processed.apply(lambda x: one_hot(x, len(vocab))).apply(lambda x: len(x)).hist()"
      ],
      "execution_count": 10,
      "outputs": [
        {
          "output_type": "execute_result",
          "data": {
            "text/plain": [
              "<matplotlib.axes._subplots.AxesSubplot at 0x7efc7190dac8>"
            ]
          },
          "metadata": {
            "tags": []
          },
          "execution_count": 10
        },
        {
          "output_type": "display_data",
          "data": {
            "image/png": "[encoded data removed]",
            "text/plain": [
              "<Figure size 576x396 with 1 Axes>"
            ]
          },
          "metadata": {
            "tags": []
          }
        }
      ]
    },
    {
      "metadata": {
        "id": "Y2S9ryyfwg9i",
        "colab_type": "code",
        "colab": {
          "base_uri": "https://localhost:8080/",
          "height": 1071
        },
        "outputId": "70bb102a-475c-4442-832e-01ff1b5bfd62"
      },
      "cell_type": "code",
      "source": [
        "vocab_freq_train = get_vocab_frequency(df_train)\n",
        "vocab_freq_train"
      ],
      "execution_count": 14,
      "outputs": [
        {
          "output_type": "execute_result",
          "data": {
            "text/plain": [
              "movie             44023\n",
              "film              40140\n",
              "one               26785\n",
              "like              20270\n",
              "good              15140\n",
              "time              12720\n",
              "even              12642\n",
              "would             12436\n",
              "story             11982\n",
              "really            11736\n",
              "see               11475\n",
              "well              10657\n",
              "much               9763\n",
              "get                9310\n",
              "bad                9300\n",
              "people             9284\n",
              "also               9156\n",
              "first              9059\n",
              "great              9058\n",
              "made               8362\n",
              "way                8025\n",
              "make               8022\n",
              "could              7920\n",
              "movies             7661\n",
              "think              7296\n",
              "characters         7152\n",
              "character          7020\n",
              "watch              6971\n",
              "two                6904\n",
              "films              6886\n",
              "                  ...  \n",
              "5dumpster             1\n",
              "gins                  1\n",
              "playbook              1\n",
              "chiefstrangely        1\n",
              "slander               1\n",
              "specialization        1\n",
              "alcantara             1\n",
              "santucci              1\n",
              "misjudgement          1\n",
              "87minutes             1\n",
              "tschaikowsky          1\n",
              "espy                  1\n",
              "perplexities          1\n",
              "dänemark              1\n",
              "intersperse           1\n",
              "hellspawn             1\n",
              "polemicist            1\n",
              "pyasa                 1\n",
              "bugliosa              1\n",
              "grumbled              1\n",
              "cabarnet              1\n",
              "encircled             1\n",
              "refuges               1\n",
              "conflation            1\n",
              "twadd                 1\n",
              "televisual            1\n",
              "deify                 1\n",
              "jullian               1\n",
              "dragonballz           1\n",
              "¿acting               1\n",
              "Length: 76298, dtype: int64"
            ]
          },
          "metadata": {
            "tags": []
          },
          "execution_count": 14
        }
      ]
    },
    {
      "metadata": {
        "id": "s1GY5TkEw2na",
        "colab_type": "code",
        "colab": {
          "base_uri": "https://localhost:8080/",
          "height": 170
        },
        "outputId": "e0acaf84-2d57-429a-f2b8-f9153c38f76e"
      },
      "cell_type": "code",
      "source": [
        "vocab_freq_train.describe()"
      ],
      "execution_count": 17,
      "outputs": [
        {
          "output_type": "execute_result",
          "data": {
            "text/plain": [
              "count    76298.000000\n",
              "mean        39.661551\n",
              "std        367.347894\n",
              "min          1.000000\n",
              "25%          1.000000\n",
              "50%          2.000000\n",
              "75%         10.000000\n",
              "max      44023.000000\n",
              "dtype: float64"
            ]
          },
          "metadata": {
            "tags": []
          },
          "execution_count": 17
        }
      ]
    },
    {
      "metadata": {
        "id": "Jfq-tr-RxwkC",
        "colab_type": "code",
        "colab": {
          "base_uri": "https://localhost:8080/",
          "height": 1071
        },
        "outputId": "ea3ae0ac-5c40-4e70-d199-0aea157327c4"
      },
      "cell_type": "code",
      "source": [
        "vocab_freq_train.iloc[:100]"
      ],
      "execution_count": 18,
      "outputs": [
        {
          "output_type": "execute_result",
          "data": {
            "text/plain": [
              "movie         44023\n",
              "film          40140\n",
              "one           26785\n",
              "like          20270\n",
              "good          15140\n",
              "time          12720\n",
              "even          12642\n",
              "would         12436\n",
              "story         11982\n",
              "really        11736\n",
              "see           11475\n",
              "well          10657\n",
              "much           9763\n",
              "get            9310\n",
              "bad            9300\n",
              "people         9284\n",
              "also           9156\n",
              "first          9059\n",
              "great          9058\n",
              "made           8362\n",
              "way            8025\n",
              "make           8022\n",
              "could          7920\n",
              "movies         7661\n",
              "think          7296\n",
              "characters     7152\n",
              "character      7020\n",
              "watch          6971\n",
              "two            6904\n",
              "films          6886\n",
              "              ...  \n",
              "going          4101\n",
              "part           4031\n",
              "lot            3978\n",
              "every          3976\n",
              "world          3834\n",
              "cast           3826\n",
              "us             3789\n",
              "quite          3737\n",
              "want           3703\n",
              "things         3688\n",
              "pretty         3664\n",
              "young          3660\n",
              "seems          3618\n",
              "around         3616\n",
              "horror         3591\n",
              "got            3583\n",
              "however        3537\n",
              "fact           3522\n",
              "take           3507\n",
              "big            3475\n",
              "enough         3451\n",
              "long           3448\n",
              "thought        3437\n",
              "series         3415\n",
              "may            3386\n",
              "give           3376\n",
              "original       3375\n",
              "action         3354\n",
              "right          3313\n",
              "without        3267\n",
              "Length: 100, dtype: int64"
            ]
          },
          "metadata": {
            "tags": []
          },
          "execution_count": 18
        }
      ]
    },
    {
      "metadata": {
        "id": "e2Lud_SHw5wJ",
        "colab_type": "text"
      },
      "cell_type": "markdown",
      "source": [
        "## Create Embedding with pretrained spaCy Word Vectors"
      ]
    },
    {
      "metadata": {
        "id": "0MHQgOfOmDYP",
        "colab_type": "code",
        "colab": {}
      },
      "cell_type": "code",
      "source": [
        "# Load the spacy model\n",
        "nlp = spacy.load('en_core_web_md')"
      ],
      "execution_count": 0,
      "outputs": []
    },
    {
      "metadata": {
        "id": "ioelJkF1OXQf",
        "colab_type": "code",
        "outputId": "34f35ce0-7cde-4fcb-c743-1e2f0f1ec675",
        "colab": {
          "base_uri": "https://localhost:8080/",
          "height": 34
        }
      },
      "cell_type": "code",
      "source": [
        "t1 = time()\n",
        "\n",
        "X_train = np.array(list(df_train['review_processed'].apply(lambda x: nlp(x).vector.tolist())))\n",
        "\n",
        "t2 = time()\n",
        "\n",
        "t = (t2 - t1) / 60\n",
        "\n",
        "path_name = os.path.join(path, 'X_train_vector.csv')\n",
        "\n",
        "np.savetxt(path_name, X_train, delimiter=',') \n",
        "\n",
        "print('Took {} min'.format(t))"
      ],
      "execution_count": 0,
      "outputs": [
        {
          "output_type": "stream",
          "text": [
            "Took 21.16675995985667 min\n"
          ],
          "name": "stdout"
        }
      ]
    },
    {
      "metadata": {
        "id": "Xb99GpAdrzxF",
        "colab_type": "code",
        "outputId": "2fa9e056-fb70-4be7-ab98-ef6b5e83d436",
        "colab": {
          "base_uri": "https://localhost:8080/",
          "height": 34
        }
      },
      "cell_type": "code",
      "source": [
        "t1 = time()\n",
        "\n",
        "X_test = np.array(list(df_test['review_processed'].apply(lambda x: nlp(x).vector.tolist())))\n",
        "\n",
        "t2 = time()\n",
        "\n",
        "t = (t2 - t1) / 60\n",
        "\n",
        "path_name = os.path.join(path, 'X_test_vector.csv')\n",
        "\n",
        "np.savetxt(path_name, X_test, delimiter=',') \n",
        "\n",
        "print('Took {} min'.format(t))"
      ],
      "execution_count": 0,
      "outputs": [
        {
          "output_type": "stream",
          "text": [
            "Took 20.361665081977844 min\n"
          ],
          "name": "stdout"
        }
      ]
    },
    {
      "metadata": {
        "id": "CrBpMg0lZta7",
        "colab_type": "text"
      },
      "cell_type": "markdown",
      "source": [
        "## Model with Non-DL ML"
      ]
    },
    {
      "metadata": {
        "id": "9nOUxeDI_3Pw",
        "colab_type": "code",
        "outputId": "f88b698e-20d8-4cbe-8972-e13697749802",
        "colab": {
          "base_uri": "https://localhost:8080/",
          "height": 68
        }
      },
      "cell_type": "code",
      "source": [
        "#vectorizer = CountVectorizer()\n",
        "vectorizer = TfidfVectorizer()\n",
        "\n",
        "X_train_tfidf = vectorizer.fit_transform(df_train['review_processed'])    \n",
        "X_test_tfidf = vectorizer.transform(df_test['review_processed'])\n",
        "\n",
        "#model = LinearSVC()\n",
        "model = LogisticRegression()\n",
        "model.fit(X_train_tfidf, df_train['sentiment'])\n",
        "y_pred = model.predict(X_test_tfidf)\n",
        "\n",
        "acc = accuracy_score(y_test, y_pred)\n",
        "\n",
        "print(\"Accuracy on test set: {:.2%}\".format(acc))"
      ],
      "execution_count": 21,
      "outputs": [
        {
          "output_type": "stream",
          "text": [
            "/usr/local/lib/python3.6/dist-packages/sklearn/linear_model/logistic.py:433: FutureWarning: Default solver will be changed to 'lbfgs' in 0.22. Specify a solver to silence this warning.\n",
            "  FutureWarning)\n"
          ],
          "name": "stderr"
        },
        {
          "output_type": "stream",
          "text": [
            "Accuracy on test set: 88.33%\n"
          ],
          "name": "stdout"
        }
      ]
    },
    {
      "metadata": {
        "id": "ANS68BeHZ6MF",
        "colab_type": "text"
      },
      "cell_type": "markdown",
      "source": [
        "## Model with Pretrained Word Embedding and Neural Networks"
      ]
    },
    {
      "metadata": {
        "id": "Of_d54JbyhD0",
        "colab_type": "code",
        "colab": {
          "base_uri": "https://localhost:8080/",
          "height": 34
        },
        "outputId": "606a5627-f45c-48b7-ef2e-bbabd079ccd7"
      },
      "cell_type": "code",
      "source": [
        "# Load the embeded train test data\n",
        "X_train_embed, y_train, X_test_embed, y_test = load_data_embedded()\n",
        "X_train_embed.shape, y_train.shape, X_test_embed.shape, y_test.shape"
      ],
      "execution_count": 22,
      "outputs": [
        {
          "output_type": "execute_result",
          "data": {
            "text/plain": [
              "((25000, 300), (25000,), (25000, 300), (25000,))"
            ]
          },
          "metadata": {
            "tags": []
          },
          "execution_count": 22
        }
      ]
    },
    {
      "metadata": {
        "id": "72a_RMZ42OGF",
        "colab_type": "code",
        "colab": {}
      },
      "cell_type": "code",
      "source": [
        "# Split validation data from train data\n",
        "X_train_embed, X_val_embed, y_train, y_val = train_test_split(\n",
        "    X_train_embed, y_train, test_size=0.2, random_state=seed)"
      ],
      "execution_count": 0,
      "outputs": []
    },
    {
      "metadata": {
        "id": "euzMlXJB7eWc",
        "colab_type": "code",
        "colab": {
          "base_uri": "https://localhost:8080/",
          "height": 1105
        },
        "outputId": "8e6e5f51-c004-4698-a8af-6891a280918b"
      },
      "cell_type": "code",
      "source": [
        "from keras.optimizers import RMSprop\n",
        "\n",
        "model = Sequential()\n",
        "model.add(Dense(64, input_dim=300, activation='relu'))\n",
        "model.add(Dropout(0.5))\n",
        "model.add(Dense(1, activation='sigmoid'))\n",
        "\n",
        "rmsprop = RMSprop(lr=0.001)\n",
        "model.compile(loss='binary_crossentropy',\n",
        "              optimizer='adam',\n",
        "              metrics=['accuracy'])\n",
        "\n",
        "history = model.fit(X_train_embed, \n",
        "                    y_train,\n",
        "                    epochs=30,\n",
        "                    batch_size=128, \n",
        "                    validation_data=(X_val_embed, y_val), \n",
        "                    verbose=1)\n",
        "\n",
        "score = model.evaluate(X_test_embed, y_test, batch_size=128)\n",
        "print(\"\\nAccuracy on the test set is: {}\".format(score[1]))"
      ],
      "execution_count": 24,
      "outputs": [
        {
          "output_type": "stream",
          "text": [
            "Train on 20000 samples, validate on 5000 samples\n",
            "Epoch 1/30\n",
            "20000/20000 [==============================] - 13s 633us/step - loss: 0.5443 - acc: 0.7394 - val_loss: 0.4317 - val_acc: 0.8130\n",
            "Epoch 2/30\n",
            "20000/20000 [==============================] - 1s 50us/step - loss: 0.4158 - acc: 0.8201 - val_loss: 0.3812 - val_acc: 0.8334\n",
            "Epoch 3/30\n",
            "20000/20000 [==============================] - 1s 51us/step - loss: 0.3852 - acc: 0.8366 - val_loss: 0.3643 - val_acc: 0.8410\n",
            "Epoch 4/30\n",
            "20000/20000 [==============================] - 1s 51us/step - loss: 0.3718 - acc: 0.8418 - val_loss: 0.3528 - val_acc: 0.8474\n",
            "Epoch 5/30\n",
            "20000/20000 [==============================] - 1s 51us/step - loss: 0.3642 - acc: 0.8439 - val_loss: 0.3527 - val_acc: 0.8470\n",
            "Epoch 6/30\n",
            "20000/20000 [==============================] - 1s 50us/step - loss: 0.3578 - acc: 0.8478 - val_loss: 0.3453 - val_acc: 0.8510\n",
            "Epoch 7/30\n",
            "20000/20000 [==============================] - 1s 51us/step - loss: 0.3564 - acc: 0.8469 - val_loss: 0.3409 - val_acc: 0.8526\n",
            "Epoch 8/30\n",
            "20000/20000 [==============================] - 1s 51us/step - loss: 0.3500 - acc: 0.8505 - val_loss: 0.3395 - val_acc: 0.8522\n",
            "Epoch 9/30\n",
            "20000/20000 [==============================] - 1s 51us/step - loss: 0.3493 - acc: 0.8516 - val_loss: 0.3388 - val_acc: 0.8542\n",
            "Epoch 10/30\n",
            "20000/20000 [==============================] - 1s 52us/step - loss: 0.3471 - acc: 0.8523 - val_loss: 0.3367 - val_acc: 0.8550\n",
            "Epoch 11/30\n",
            "20000/20000 [==============================] - 1s 51us/step - loss: 0.3417 - acc: 0.8531 - val_loss: 0.3378 - val_acc: 0.8562\n",
            "Epoch 12/30\n",
            "20000/20000 [==============================] - 1s 51us/step - loss: 0.3414 - acc: 0.8555 - val_loss: 0.3353 - val_acc: 0.8564\n",
            "Epoch 13/30\n",
            "20000/20000 [==============================] - 1s 50us/step - loss: 0.3417 - acc: 0.8551 - val_loss: 0.3348 - val_acc: 0.8564\n",
            "Epoch 14/30\n",
            "20000/20000 [==============================] - 1s 52us/step - loss: 0.3391 - acc: 0.8576 - val_loss: 0.3406 - val_acc: 0.8530\n",
            "Epoch 15/30\n",
            "20000/20000 [==============================] - 1s 51us/step - loss: 0.3377 - acc: 0.8565 - val_loss: 0.3334 - val_acc: 0.8570\n",
            "Epoch 16/30\n",
            "20000/20000 [==============================] - 1s 50us/step - loss: 0.3381 - acc: 0.8561 - val_loss: 0.3330 - val_acc: 0.8576\n",
            "Epoch 17/30\n",
            "20000/20000 [==============================] - 1s 51us/step - loss: 0.3361 - acc: 0.8596 - val_loss: 0.3348 - val_acc: 0.8552\n",
            "Epoch 18/30\n",
            "20000/20000 [==============================] - 1s 51us/step - loss: 0.3345 - acc: 0.8579 - val_loss: 0.3322 - val_acc: 0.8586\n",
            "Epoch 19/30\n",
            "20000/20000 [==============================] - 1s 51us/step - loss: 0.3346 - acc: 0.8597 - val_loss: 0.3328 - val_acc: 0.8564\n",
            "Epoch 20/30\n",
            "20000/20000 [==============================] - 1s 51us/step - loss: 0.3326 - acc: 0.8588 - val_loss: 0.3322 - val_acc: 0.8604\n",
            "Epoch 21/30\n",
            "20000/20000 [==============================] - 1s 51us/step - loss: 0.3305 - acc: 0.8608 - val_loss: 0.3311 - val_acc: 0.8602\n",
            "Epoch 22/30\n",
            "20000/20000 [==============================] - 1s 52us/step - loss: 0.3284 - acc: 0.8622 - val_loss: 0.3331 - val_acc: 0.8584\n",
            "Epoch 23/30\n",
            "20000/20000 [==============================] - 1s 50us/step - loss: 0.3289 - acc: 0.8615 - val_loss: 0.3310 - val_acc: 0.8598\n",
            "Epoch 24/30\n",
            "20000/20000 [==============================] - 1s 52us/step - loss: 0.3256 - acc: 0.8628 - val_loss: 0.3326 - val_acc: 0.8576\n",
            "Epoch 25/30\n",
            "20000/20000 [==============================] - 1s 51us/step - loss: 0.3277 - acc: 0.8637 - val_loss: 0.3318 - val_acc: 0.8588\n",
            "Epoch 26/30\n",
            "20000/20000 [==============================] - 1s 51us/step - loss: 0.3269 - acc: 0.8643 - val_loss: 0.3310 - val_acc: 0.8602\n",
            "Epoch 27/30\n",
            "20000/20000 [==============================] - 1s 51us/step - loss: 0.3239 - acc: 0.8642 - val_loss: 0.3313 - val_acc: 0.8600\n",
            "Epoch 28/30\n",
            "20000/20000 [==============================] - 1s 50us/step - loss: 0.3250 - acc: 0.8634 - val_loss: 0.3308 - val_acc: 0.8604\n",
            "Epoch 29/30\n",
            "20000/20000 [==============================] - 1s 50us/step - loss: 0.3212 - acc: 0.8668 - val_loss: 0.3300 - val_acc: 0.8582\n",
            "Epoch 30/30\n",
            "20000/20000 [==============================] - 1s 51us/step - loss: 0.3217 - acc: 0.8672 - val_loss: 0.3307 - val_acc: 0.8592\n",
            "25000/25000 [==============================] - 1s 23us/step\n",
            "\n",
            "Accuracy on the test set is: 0.8542000000190735\n"
          ],
          "name": "stdout"
        }
      ]
    },
    {
      "metadata": {
        "id": "dB6BphfYH_x5",
        "colab_type": "code",
        "colab": {}
      },
      "cell_type": "code",
      "source": [
        "def plot_metrics(history):\n",
        "  \"\"\"\n",
        "  Plots the accuracy and loss results using the given hisotry_dict.\n",
        "  \n",
        "  Params\n",
        "  ---------------------\n",
        "  history:\n",
        "    The history object by model.fit()\n",
        "  \n",
        "  Returns\n",
        "  ---------------------\n",
        "  None\n",
        "  \n",
        "  \"\"\"\n",
        "  history_dict = history.history\n",
        "  \n",
        "  acc = history_dict['acc']\n",
        "  val_acc = history_dict['val_acc']\n",
        "  loss = history_dict['loss']\n",
        "  val_loss = history_dict['val_loss']\n",
        "\n",
        "  epochs = range(1, len(acc) + 1)\n",
        "\n",
        "  fig, (ax1, ax2) = plt.subplots(nrows=1, ncols=2, figsize=(16, 10))\n",
        "  \n",
        "  # \"bo\" is for \"blue dot\"\n",
        "  ax1.plot(epochs, loss, 'bo', label='Training loss')\n",
        "  # b is for \"solid blue line\"\n",
        "  ax1.plot(epochs, val_loss, 'b', label='Validation loss')\n",
        "  ax1.set_title('Training and validation loss')\n",
        "  ax1.set_xlabel('Epochs')\n",
        "  ax1.set_ylabel('Loss')\n",
        "  ax1.legend()\n",
        "\n",
        "  ax2.plot(epochs, acc, 'bo', label='Training acc')\n",
        "  ax2.plot(epochs, val_acc, 'b', label='Validation acc')\n",
        "  ax2.set_title('Training and validation accuracy')\n",
        "  ax2.set_xlabel('Epochs')\n",
        "  ax2.set_ylabel('Accuracy')\n",
        "  ax2.legend()\n",
        "  \n",
        "  plt.show() "
      ],
      "execution_count": 0,
      "outputs": []
    },
    {
      "metadata": {
        "id": "RxW15QXOJAkp",
        "colab_type": "code",
        "colab": {
          "base_uri": "https://localhost:8080/",
          "height": 620
        },
        "outputId": "ea778ca1-cc83-4b46-ffdb-a45b2d0e1b47"
      },
      "cell_type": "code",
      "source": [
        "plot_metrics(history)"
      ],
      "execution_count": 26,
      "outputs": [
        {
          "output_type": "display_data",
          "data": {
            "image/png": "[encoded data removed]",
            "text/plain": [
              "<Figure size 1152x720 with 2 Axes>"
            ]
          },
          "metadata": {
            "tags": []
          }
        }
      ]
    },
    {
      "metadata": {
        "id": "z3avwMq6KOg-",
        "colab_type": "text"
      },
      "cell_type": "markdown",
      "source": [
        "## Model with Keras Embedding Layer"
      ]
    },
    {
      "metadata": {
        "id": "L13ggPeT59TR",
        "colab_type": "code",
        "outputId": "fe61e085-820f-4137-da40-2540863062b2",
        "colab": {
          "base_uri": "https://localhost:8080/",
          "height": 1394
        }
      },
      "cell_type": "code",
      "source": [
        "# define the model\n",
        "model = Sequential()\n",
        "model.add(Embedding(input_dim=10000, \n",
        "                    output_dim=8, \n",
        "                    input_length=200))\n",
        "model.add(Dropout(0.5))\n",
        "model.add(Flatten())\n",
        "#model.add(LSTM(100))\n",
        "model.add(Dropout(0.5))\n",
        "model.add(Dense(1, activation='sigmoid'))\n",
        "\n",
        "# compile the model\n",
        "model.compile(optimizer='adam', loss='binary_crossentropy', metrics=['acc'])\n",
        "\n",
        "# summarize the model\n",
        "print(model.summary())\n",
        "\n",
        "# fit the model\n",
        "history = model.fit(X_train, \n",
        "                    y_train, \n",
        "                    epochs=30, \n",
        "                    #batch_size=64,\n",
        "                    validation_data=(X_val, y_val), \n",
        "                    verbose=1)\n",
        "\n",
        "# evaluate the model\n",
        "loss, accuracy = model.evaluate(X_test, y_test, verbose=0)\n",
        "print('\\nAccuracy: {:.2%}'.format(accuracy))"
      ],
      "execution_count": 34,
      "outputs": [
        {
          "output_type": "stream",
          "text": [
            "_________________________________________________________________\n",
            "Layer (type)                 Output Shape              Param #   \n",
            "=================================================================\n",
            "embedding_5 (Embedding)      (None, 200, 8)            80000     \n",
            "_________________________________________________________________\n",
            "dropout_10 (Dropout)         (None, 200, 8)            0         \n",
            "_________________________________________________________________\n",
            "flatten_5 (Flatten)          (None, 1600)              0         \n",
            "_________________________________________________________________\n",
            "dropout_11 (Dropout)         (None, 1600)              0         \n",
            "_________________________________________________________________\n",
            "dense_7 (Dense)              (None, 1)                 1601      \n",
            "=================================================================\n",
            "Total params: 81,601\n",
            "Trainable params: 81,601\n",
            "Non-trainable params: 0\n",
            "_________________________________________________________________\n",
            "None\n",
            "Train on 20000 samples, validate on 5000 samples\n",
            "Epoch 1/30\n",
            "20000/20000 [==============================] - 3s 171us/step - loss: 0.6668 - acc: 0.6047 - val_loss: 0.5662 - val_acc: 0.7934\n",
            "Epoch 2/30\n",
            "20000/20000 [==============================] - 3s 155us/step - loss: 0.4473 - acc: 0.8160 - val_loss: 0.3790 - val_acc: 0.8408\n",
            "Epoch 3/30\n",
            "20000/20000 [==============================] - 3s 155us/step - loss: 0.3408 - acc: 0.8584 - val_loss: 0.3308 - val_acc: 0.8668\n",
            "Epoch 4/30\n",
            "20000/20000 [==============================] - 3s 155us/step - loss: 0.2991 - acc: 0.8790 - val_loss: 0.3161 - val_acc: 0.8708\n",
            "Epoch 5/30\n",
            "20000/20000 [==============================] - 3s 155us/step - loss: 0.2750 - acc: 0.8892 - val_loss: 0.3125 - val_acc: 0.8680\n",
            "Epoch 6/30\n",
            "20000/20000 [==============================] - 3s 155us/step - loss: 0.2574 - acc: 0.8942 - val_loss: 0.3103 - val_acc: 0.8736\n",
            "Epoch 7/30\n",
            "20000/20000 [==============================] - 3s 155us/step - loss: 0.2391 - acc: 0.9041 - val_loss: 0.3135 - val_acc: 0.8668\n",
            "Epoch 8/30\n",
            "20000/20000 [==============================] - 3s 156us/step - loss: 0.2334 - acc: 0.9031 - val_loss: 0.3117 - val_acc: 0.8736\n",
            "Epoch 9/30\n",
            "20000/20000 [==============================] - 3s 155us/step - loss: 0.2201 - acc: 0.9108 - val_loss: 0.3172 - val_acc: 0.8682\n",
            "Epoch 10/30\n",
            "20000/20000 [==============================] - 3s 155us/step - loss: 0.2153 - acc: 0.9122 - val_loss: 0.3216 - val_acc: 0.8674\n",
            "Epoch 11/30\n",
            "20000/20000 [==============================] - 3s 155us/step - loss: 0.2120 - acc: 0.9136 - val_loss: 0.3236 - val_acc: 0.8658\n",
            "Epoch 12/30\n",
            "20000/20000 [==============================] - 3s 155us/step - loss: 0.2031 - acc: 0.9174 - val_loss: 0.3287 - val_acc: 0.8662\n",
            "Epoch 13/30\n",
            "20000/20000 [==============================] - 3s 156us/step - loss: 0.1989 - acc: 0.9189 - val_loss: 0.3314 - val_acc: 0.8650\n",
            "Epoch 14/30\n",
            "20000/20000 [==============================] - 3s 155us/step - loss: 0.1964 - acc: 0.9209 - val_loss: 0.3363 - val_acc: 0.8674\n",
            "Epoch 15/30\n",
            "20000/20000 [==============================] - 3s 156us/step - loss: 0.1933 - acc: 0.9212 - val_loss: 0.3374 - val_acc: 0.8652\n",
            "Epoch 16/30\n",
            "20000/20000 [==============================] - 3s 155us/step - loss: 0.1873 - acc: 0.9253 - val_loss: 0.3398 - val_acc: 0.8634\n",
            "Epoch 17/30\n",
            "20000/20000 [==============================] - 3s 155us/step - loss: 0.1807 - acc: 0.9273 - val_loss: 0.3425 - val_acc: 0.8640\n",
            "Epoch 18/30\n",
            "20000/20000 [==============================] - 3s 155us/step - loss: 0.1828 - acc: 0.9257 - val_loss: 0.3453 - val_acc: 0.8632\n",
            "Epoch 19/30\n",
            "20000/20000 [==============================] - 3s 155us/step - loss: 0.1830 - acc: 0.9274 - val_loss: 0.3500 - val_acc: 0.8616\n",
            "Epoch 20/30\n",
            "20000/20000 [==============================] - 3s 156us/step - loss: 0.1770 - acc: 0.9283 - val_loss: 0.3485 - val_acc: 0.8624\n",
            "Epoch 21/30\n",
            "20000/20000 [==============================] - 3s 156us/step - loss: 0.1724 - acc: 0.9313 - val_loss: 0.3534 - val_acc: 0.8648\n",
            "Epoch 22/30\n",
            "20000/20000 [==============================] - 3s 155us/step - loss: 0.1704 - acc: 0.9325 - val_loss: 0.3605 - val_acc: 0.8652\n",
            "Epoch 23/30\n",
            "20000/20000 [==============================] - 3s 156us/step - loss: 0.1770 - acc: 0.9295 - val_loss: 0.3622 - val_acc: 0.8652\n",
            "Epoch 24/30\n",
            "20000/20000 [==============================] - 3s 155us/step - loss: 0.1657 - acc: 0.9323 - val_loss: 0.3649 - val_acc: 0.8626\n",
            "Epoch 25/30\n",
            "20000/20000 [==============================] - 3s 156us/step - loss: 0.1679 - acc: 0.9320 - val_loss: 0.3691 - val_acc: 0.8598\n",
            "Epoch 26/30\n",
            "20000/20000 [==============================] - 3s 155us/step - loss: 0.1657 - acc: 0.9330 - val_loss: 0.3719 - val_acc: 0.8624\n",
            "Epoch 27/30\n",
            "20000/20000 [==============================] - 3s 155us/step - loss: 0.1629 - acc: 0.9351 - val_loss: 0.3708 - val_acc: 0.8644\n",
            "Epoch 28/30\n",
            "20000/20000 [==============================] - 3s 155us/step - loss: 0.1638 - acc: 0.9336 - val_loss: 0.3728 - val_acc: 0.8618\n",
            "Epoch 29/30\n",
            "20000/20000 [==============================] - 3s 156us/step - loss: 0.1569 - acc: 0.9378 - val_loss: 0.3874 - val_acc: 0.8572\n",
            "Epoch 30/30\n",
            "20000/20000 [==============================] - 3s 155us/step - loss: 0.1588 - acc: 0.9361 - val_loss: 0.3783 - val_acc: 0.8636\n",
            "\n",
            "Accuracy: 83.66%\n"
          ],
          "name": "stdout"
        }
      ]
    },
    {
      "metadata": {
        "id": "WEK8BY1YQ8Uy",
        "colab_type": "code",
        "colab": {
          "base_uri": "https://localhost:8080/",
          "height": 620
        },
        "outputId": "8a8496d2-4d42-4fe8-d60f-1206445296da"
      },
      "cell_type": "code",
      "source": [
        "plot_metrics(history)"
      ],
      "execution_count": 35,
      "outputs": [
        {
          "output_type": "display_data",
          "data": {
            "image/png": "[encoded data removed]",
            "text/plain": [
              "<Figure size 1152x720 with 2 Axes>"
            ]
          },
          "metadata": {
            "tags": []
          }
        }
      ]
    },
    {
      "metadata": {
        "id": "JBdz5L_7ijoN",
        "colab_type": "code",
        "colab": {
          "base_uri": "https://localhost:8080/",
          "height": 663
        },
        "outputId": "9dca121c-4e65-4aa0-b8e4-e058cf2da540"
      },
      "cell_type": "code",
      "source": [
        "################################\n",
        "#########  Experiment  #########\n",
        "################################\n",
        "\n",
        "vocab_size = 10000\n",
        "vecor_length = 8\n",
        "max_length = 200\n",
        "\n",
        "\n",
        "# define the model\n",
        "model = Sequential()\n",
        "model.add(Embedding(input_dim=vocab_size, \n",
        "                    output_dim=vecor_length))\n",
        "#model.add(Dropout(0.7))\n",
        "#model.add(Flatten())\n",
        "model.add(GlobalAveragePooling1D())\n",
        "#model.add(LSTM(100))\n",
        "#model.add(Dropout(0.7))\n",
        "model.add(Dense(16, activation='relu'))\n",
        "model.add(Dense(1, activation='sigmoid'))\n",
        "\n",
        "# compile the model\n",
        "model.compile(optimizer='adam', loss='binary_crossentropy', metrics=['acc'])\n",
        "\n",
        "# summarize the model\n",
        "print(model.summary())\n",
        "\n",
        "# fit the model\n",
        "model.fit(X_train, y_train, epochs=10, batch_size=64)\n",
        "\n",
        "# evaluate the model\n",
        "loss, accuracy = model.evaluate(X_test, y_test, verbose=0)\n",
        "print('\\nAccuracy: {:.2%}'.format(accuracy))"
      ],
      "execution_count": 34,
      "outputs": [
        {
          "output_type": "stream",
          "text": [
            "_________________________________________________________________\n",
            "Layer (type)                 Output Shape              Param #   \n",
            "=================================================================\n",
            "embedding_5 (Embedding)      (None, None, 8)           80000     \n",
            "_________________________________________________________________\n",
            "global_average_pooling1d_3 ( (None, 8)                 0         \n",
            "_________________________________________________________________\n",
            "dense_2 (Dense)              (None, 16)                144       \n",
            "_________________________________________________________________\n",
            "dense_3 (Dense)              (None, 1)                 17        \n",
            "=================================================================\n",
            "Total params: 80,161\n",
            "Trainable params: 80,161\n",
            "Non-trainable params: 0\n",
            "_________________________________________________________________\n",
            "None\n",
            "Epoch 1/10\n",
            "25000/25000 [==============================] - 2s 95us/step - loss: 0.6916 - acc: 0.5436\n",
            "Epoch 2/10\n",
            "25000/25000 [==============================] - 2s 89us/step - loss: 0.6528 - acc: 0.6622\n",
            "Epoch 3/10\n",
            "25000/25000 [==============================] - 2s 87us/step - loss: 0.5788 - acc: 0.7080\n",
            "Epoch 4/10\n",
            "25000/25000 [==============================] - 2s 81us/step - loss: 0.5436 - acc: 0.7259\n",
            "Epoch 5/10\n",
            "25000/25000 [==============================] - 2s 81us/step - loss: 0.5260 - acc: 0.7368\n",
            "Epoch 6/10\n",
            "25000/25000 [==============================] - 2s 82us/step - loss: 0.5149 - acc: 0.7404\n",
            "Epoch 7/10\n",
            "25000/25000 [==============================] - 2s 82us/step - loss: 0.5068 - acc: 0.7480\n",
            "Epoch 8/10\n",
            "25000/25000 [==============================] - 2s 79us/step - loss: 0.4998 - acc: 0.7512\n",
            "Epoch 9/10\n",
            "25000/25000 [==============================] - 2s 86us/step - loss: 0.4933 - acc: 0.7564\n",
            "Epoch 10/10\n",
            "25000/25000 [==============================] - 2s 98us/step - loss: 0.4893 - acc: 0.7568\n",
            "\n",
            "Accuracy: 70.29%\n"
          ],
          "name": "stdout"
        }
      ]
    },
    {
      "metadata": {
        "id": "QakhZoqXaEP7",
        "colab_type": "text"
      },
      "cell_type": "markdown",
      "source": [
        "## Modeling with Word Embedding and RNN"
      ]
    },
    {
      "metadata": {
        "id": "rbPsVBteChfq",
        "colab_type": "code",
        "outputId": "d6d1e938-152c-4f29-ce26-00d2b8982d23",
        "colab": {
          "base_uri": "https://localhost:8080/",
          "height": 374
        }
      },
      "cell_type": "code",
      "source": [
        "model = Sequential()\n",
        "model.add(Embedding(vocab_size, 8, input_length=max_length))\n",
        "model.add(LSTM(128))\n",
        "model.add(Dropout(0.5))\n",
        "model.add(Dense(1, activation='sigmoid'))\n",
        "\n",
        "model.compile(loss='binary_crossentropy',\n",
        "              optimizer='rmsprop', \n",
        "              metrics=['accuracy'])\n",
        "\n",
        "model.fit(X_train, y_train, batch_size=128, epochs=10)"
      ],
      "execution_count": 23,
      "outputs": [
        {
          "output_type": "stream",
          "text": [
            "Epoch 1/10\n",
            "25000/25000 [==============================] - 107s 4ms/step - loss: 0.6932 - acc: 0.5056\n",
            "Epoch 2/10\n",
            "25000/25000 [==============================] - 93s 4ms/step - loss: 0.7299 - acc: 0.5122\n",
            "Epoch 3/10\n",
            "25000/25000 [==============================] - 94s 4ms/step - loss: 0.6650 - acc: 0.5968\n",
            "Epoch 4/10\n",
            "25000/25000 [==============================] - 93s 4ms/step - loss: 0.6373 - acc: 0.6454\n",
            "Epoch 5/10\n",
            "25000/25000 [==============================] - 94s 4ms/step - loss: 0.6258 - acc: 0.6634\n",
            "Epoch 6/10\n",
            "25000/25000 [==============================] - 94s 4ms/step - loss: 0.5549 - acc: 0.7556\n",
            "Epoch 7/10\n",
            "25000/25000 [==============================] - 93s 4ms/step - loss: 0.5707 - acc: 0.7102\n",
            "Epoch 8/10\n",
            "25000/25000 [==============================] - 93s 4ms/step - loss: 0.4792 - acc: 0.8064\n",
            "Epoch 9/10\n",
            "25000/25000 [==============================] - 93s 4ms/step - loss: 0.4071 - acc: 0.8587\n",
            "Epoch 10/10\n",
            "25000/25000 [==============================] - 91s 4ms/step - loss: 0.4394 - acc: 0.8392\n"
          ],
          "name": "stdout"
        },
        {
          "output_type": "execute_result",
          "data": {
            "text/plain": [
              "<keras.callbacks.History at 0x7fb4adf90940>"
            ]
          },
          "metadata": {
            "tags": []
          },
          "execution_count": 23
        }
      ]
    },
    {
      "metadata": {
        "id": "-TqawzrdOos7",
        "colab_type": "code",
        "outputId": "46070f26-a0bc-4a25-8b29-11a8d475370d",
        "colab": {
          "base_uri": "https://localhost:8080/",
          "height": 51
        }
      },
      "cell_type": "code",
      "source": [
        "score = model.evaluate(X_test, y_test)\n",
        "score"
      ],
      "execution_count": 25,
      "outputs": [
        {
          "output_type": "stream",
          "text": [
            "25000/25000 [==============================] - 129s 5ms/step\n"
          ],
          "name": "stdout"
        },
        {
          "output_type": "execute_result",
          "data": {
            "text/plain": [
              "[0.6118534841680526, 0.81644]"
            ]
          },
          "metadata": {
            "tags": []
          },
          "execution_count": 25
        }
      ]
    },
    {
      "metadata": {
        "id": "WzSbsvNxBfxK",
        "colab_type": "text"
      },
      "cell_type": "markdown",
      "source": [
        "## To-Do's\n",
        " \n",
        "- preprocess using spaCy\n",
        "- lemmatize based on pos: https://stackoverflow.com/questions/41824782/lemmatize-string-according-to-pos-nlp\n",
        "- 'desk\\x97symbol', '\\x91alonzo', '137', '230lbs', 'yes\\x97it', '1988\\x961992', 'yurets777', '94th', '20perr', '\\x84new', \n",
        "- trim to max length first and then one hot"
      ]
    },
    {
      "metadata": {
        "id": "JGj4dSmSIIFm",
        "colab_type": "text"
      },
      "cell_type": "markdown",
      "source": [
        "# Log\n",
        "- original linearSVC and countervectorizer: 84.14%\n",
        "- Logistic Regression and tfidf: 88.33%\n",
        "- Initial NN: 85.05%\n",
        "- SVC with preprocess: 84.14%\n",
        "- NN with preprocess and new embed: 85.53%\n",
        "- Keras embedding and dropout (0.5): 86.33%\n",
        "- Keras embedding and dropout (0.7): 87.42%\n",
        "- Keras embedding and dropout (0.7), coverage (400): 86.48%\n",
        "\n",
        "took 37.5 min to convert to embedding before preprocessing, 20 min after preprocessing."
      ]
    },
    {
      "metadata": {
        "id": "vsOGCxY595k5",
        "colab_type": "code",
        "colab": {}
      },
      "cell_type": "code",
      "source": [
        "def cosine_similarity(v1, v2):\n",
        "  return np.dot(v1, v2) / (np.linalg.norm(v1) * np.linalg.norm(v2))"
      ],
      "execution_count": 0,
      "outputs": []
    },
    {
      "metadata": {
        "id": "B01rb69UCaQO",
        "colab_type": "code",
        "colab": {}
      },
      "cell_type": "code",
      "source": [
        ""
      ],
      "execution_count": 0,
      "outputs": []
    }
  ]
}